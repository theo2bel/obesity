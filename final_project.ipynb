{
 "cells": [
  {
   "cell_type": "markdown",
   "id": "a62a125f",
   "metadata": {},
   "source": [
    "# Obesity project"
   ]
  },
  {
   "cell_type": "markdown",
   "id": "720bc243",
   "metadata": {},
   "source": [
    "## 1) Importation and cleaning"
   ]
  },
  {
   "cell_type": "code",
   "execution_count": 105,
   "id": "d01930fb",
   "metadata": {},
   "outputs": [],
   "source": [
    "import pandas as pd\n",
    "from sklearn.linear_model import LinearRegression, Ridge, Lasso,SGDRegressor,LogisticRegression\n",
    "from sklearn import svm,tree\n",
    "from sklearn.neighbors import KNeighborsClassifier\n",
    "import warnings\n",
    "from sklearn.model_selection import GridSearchCV\n",
    "from sklearn.preprocessing import Normalizer, StandardScaler"
   ]
  },
  {
   "cell_type": "code",
   "execution_count": 106,
   "id": "9ecc81a0",
   "metadata": {},
   "outputs": [],
   "source": [
    "warnings.filterwarnings('ignore')"
   ]
  },
  {
   "cell_type": "code",
   "execution_count": 107,
   "id": "cd3bdece",
   "metadata": {},
   "outputs": [],
   "source": [
    "df=pd.read_csv(\"ObesityDataSet_raw_and_data_sinthetic.csv\")"
   ]
  },
  {
   "cell_type": "code",
   "execution_count": 108,
   "id": "c2873baf",
   "metadata": {},
   "outputs": [],
   "source": [
    "df=df.rename(columns = {\"family_history_with_overweight\": \"genetic\",\n",
    "                          \"FAVC\": \"high_calorific\",\n",
    "                          \"FCVC\": \"vegetable\",\n",
    "                          \"NCP\": \"frequence_meal\",\n",
    "                          \"CAEC\": \"between_meal\",\n",
    "                          \"CH2O\": \"water\",\n",
    "                          \"SCC\": \"calories_monitoring\",\n",
    "                          \"FAF\": \"physical_activity\",\n",
    "                          \"TUE\": \"technology_time\",\n",
    "                          \"CALC\": \"alcohol\",\n",
    "                          \"MTRANS\": \"transportation\",\n",
    "                          \"NObeyesdad\": \"obesity\",\n",
    "                          \"SMOKE\":\"smoke\",  \n",
    "                         })"
   ]
  },
  {
   "cell_type": "markdown",
   "id": "0ce776d9",
   "metadata": {},
   "source": [
    "We apply the normal encoding on the columns that have 2 possible values"
   ]
  },
  {
   "cell_type": "code",
   "execution_count": 109,
   "id": "060afffa",
   "metadata": {},
   "outputs": [],
   "source": [
    "y=df.obesity  # target\n",
    "df=df.drop('obesity',axis=1)"
   ]
  },
  {
   "cell_type": "code",
   "execution_count": 110,
   "id": "25d9aca2",
   "metadata": {},
   "outputs": [
    {
     "data": {
      "text/html": [
       "<div>\n",
       "<style scoped>\n",
       "    .dataframe tbody tr th:only-of-type {\n",
       "        vertical-align: middle;\n",
       "    }\n",
       "\n",
       "    .dataframe tbody tr th {\n",
       "        vertical-align: top;\n",
       "    }\n",
       "\n",
       "    .dataframe thead th {\n",
       "        text-align: right;\n",
       "    }\n",
       "</style>\n",
       "<table border=\"1\" class=\"dataframe\">\n",
       "  <thead>\n",
       "    <tr style=\"text-align: right;\">\n",
       "      <th></th>\n",
       "      <th>Gender</th>\n",
       "      <th>Age</th>\n",
       "      <th>Height</th>\n",
       "      <th>Weight</th>\n",
       "      <th>genetic</th>\n",
       "      <th>high_calorific</th>\n",
       "      <th>vegetable</th>\n",
       "      <th>frequence_meal</th>\n",
       "      <th>between_meal</th>\n",
       "      <th>smoke</th>\n",
       "      <th>water</th>\n",
       "      <th>calories_monitoring</th>\n",
       "      <th>physical_activity</th>\n",
       "      <th>technology_time</th>\n",
       "      <th>alcohol</th>\n",
       "      <th>transportation</th>\n",
       "    </tr>\n",
       "  </thead>\n",
       "  <tbody>\n",
       "    <tr>\n",
       "      <th>0</th>\n",
       "      <td>Female</td>\n",
       "      <td>21.0</td>\n",
       "      <td>1.62</td>\n",
       "      <td>64.0</td>\n",
       "      <td>yes</td>\n",
       "      <td>no</td>\n",
       "      <td>2.0</td>\n",
       "      <td>3.0</td>\n",
       "      <td>Sometimes</td>\n",
       "      <td>no</td>\n",
       "      <td>2.0</td>\n",
       "      <td>no</td>\n",
       "      <td>0.0</td>\n",
       "      <td>1.0</td>\n",
       "      <td>no</td>\n",
       "      <td>Public_Transportation</td>\n",
       "    </tr>\n",
       "    <tr>\n",
       "      <th>1</th>\n",
       "      <td>Female</td>\n",
       "      <td>21.0</td>\n",
       "      <td>1.52</td>\n",
       "      <td>56.0</td>\n",
       "      <td>yes</td>\n",
       "      <td>no</td>\n",
       "      <td>3.0</td>\n",
       "      <td>3.0</td>\n",
       "      <td>Sometimes</td>\n",
       "      <td>yes</td>\n",
       "      <td>3.0</td>\n",
       "      <td>yes</td>\n",
       "      <td>3.0</td>\n",
       "      <td>0.0</td>\n",
       "      <td>Sometimes</td>\n",
       "      <td>Public_Transportation</td>\n",
       "    </tr>\n",
       "    <tr>\n",
       "      <th>2</th>\n",
       "      <td>Male</td>\n",
       "      <td>23.0</td>\n",
       "      <td>1.80</td>\n",
       "      <td>77.0</td>\n",
       "      <td>yes</td>\n",
       "      <td>no</td>\n",
       "      <td>2.0</td>\n",
       "      <td>3.0</td>\n",
       "      <td>Sometimes</td>\n",
       "      <td>no</td>\n",
       "      <td>2.0</td>\n",
       "      <td>no</td>\n",
       "      <td>2.0</td>\n",
       "      <td>1.0</td>\n",
       "      <td>Frequently</td>\n",
       "      <td>Public_Transportation</td>\n",
       "    </tr>\n",
       "    <tr>\n",
       "      <th>3</th>\n",
       "      <td>Male</td>\n",
       "      <td>27.0</td>\n",
       "      <td>1.80</td>\n",
       "      <td>87.0</td>\n",
       "      <td>no</td>\n",
       "      <td>no</td>\n",
       "      <td>3.0</td>\n",
       "      <td>3.0</td>\n",
       "      <td>Sometimes</td>\n",
       "      <td>no</td>\n",
       "      <td>2.0</td>\n",
       "      <td>no</td>\n",
       "      <td>2.0</td>\n",
       "      <td>0.0</td>\n",
       "      <td>Frequently</td>\n",
       "      <td>Walking</td>\n",
       "    </tr>\n",
       "    <tr>\n",
       "      <th>4</th>\n",
       "      <td>Male</td>\n",
       "      <td>22.0</td>\n",
       "      <td>1.78</td>\n",
       "      <td>89.8</td>\n",
       "      <td>no</td>\n",
       "      <td>no</td>\n",
       "      <td>2.0</td>\n",
       "      <td>1.0</td>\n",
       "      <td>Sometimes</td>\n",
       "      <td>no</td>\n",
       "      <td>2.0</td>\n",
       "      <td>no</td>\n",
       "      <td>0.0</td>\n",
       "      <td>0.0</td>\n",
       "      <td>Sometimes</td>\n",
       "      <td>Public_Transportation</td>\n",
       "    </tr>\n",
       "  </tbody>\n",
       "</table>\n",
       "</div>"
      ],
      "text/plain": [
       "   Gender   Age  Height  Weight genetic high_calorific  vegetable  \\\n",
       "0  Female  21.0    1.62    64.0     yes             no        2.0   \n",
       "1  Female  21.0    1.52    56.0     yes             no        3.0   \n",
       "2    Male  23.0    1.80    77.0     yes             no        2.0   \n",
       "3    Male  27.0    1.80    87.0      no             no        3.0   \n",
       "4    Male  22.0    1.78    89.8      no             no        2.0   \n",
       "\n",
       "   frequence_meal between_meal smoke  water calories_monitoring  \\\n",
       "0             3.0    Sometimes    no    2.0                  no   \n",
       "1             3.0    Sometimes   yes    3.0                 yes   \n",
       "2             3.0    Sometimes    no    2.0                  no   \n",
       "3             3.0    Sometimes    no    2.0                  no   \n",
       "4             1.0    Sometimes    no    2.0                  no   \n",
       "\n",
       "   physical_activity  technology_time     alcohol         transportation  \n",
       "0                0.0              1.0          no  Public_Transportation  \n",
       "1                3.0              0.0   Sometimes  Public_Transportation  \n",
       "2                2.0              1.0  Frequently  Public_Transportation  \n",
       "3                2.0              0.0  Frequently                Walking  \n",
       "4                0.0              0.0   Sometimes  Public_Transportation  "
      ]
     },
     "execution_count": 110,
     "metadata": {},
     "output_type": "execute_result"
    }
   ],
   "source": [
    "df.head()"
   ]
  },
  {
   "cell_type": "markdown",
   "id": "c88a610f",
   "metadata": {},
   "source": [
    "Here we choose to apply the one-hot encoding on the 3 columns that have more than 2 possible values"
   ]
  },
  {
   "cell_type": "code",
   "execution_count": 111,
   "id": "bf648145",
   "metadata": {},
   "outputs": [],
   "source": [
    "from sklearn.preprocessing import OneHotEncoder\n",
    "from  sklearn.compose import make_column_transformer\n",
    "\n",
    "#OneHotEncoder et Scaling "
   ]
  },
  {
   "cell_type": "code",
   "execution_count": 112,
   "id": "b4186b44",
   "metadata": {},
   "outputs": [],
   "source": [
    "\n",
    "\n",
    "transformer = make_column_transformer(\n",
    "        (OneHotEncoder(), [\"Gender\",\"genetic\",\"high_calorific\",\"between_meal\",\"smoke\",\"calories_monitoring\",\"alcohol\",\"transportation\"]),\n",
    "        remainder=StandardScaler())\n",
    "\n",
    "   \n",
    "transformed = transformer.fit_transform(df)\n",
    "\n",
    "#Creation du dataframe avec recuperation des noms des colonnes\n",
    "df=pd.DataFrame(transformed, columns=list(map(lambda x:x.split(\"__\")[1],transformer.get_feature_names_out())))"
   ]
  },
  {
   "cell_type": "code",
   "execution_count": 113,
   "id": "fbfe658a",
   "metadata": {},
   "outputs": [
    {
     "data": {
      "text/html": [
       "<div>\n",
       "<style scoped>\n",
       "    .dataframe tbody tr th:only-of-type {\n",
       "        vertical-align: middle;\n",
       "    }\n",
       "\n",
       "    .dataframe tbody tr th {\n",
       "        vertical-align: top;\n",
       "    }\n",
       "\n",
       "    .dataframe thead th {\n",
       "        text-align: right;\n",
       "    }\n",
       "</style>\n",
       "<table border=\"1\" class=\"dataframe\">\n",
       "  <thead>\n",
       "    <tr style=\"text-align: right;\">\n",
       "      <th></th>\n",
       "      <th>Gender_Female</th>\n",
       "      <th>Gender_Male</th>\n",
       "      <th>genetic_no</th>\n",
       "      <th>genetic_yes</th>\n",
       "      <th>high_calorific_no</th>\n",
       "      <th>high_calorific_yes</th>\n",
       "      <th>between_meal_Always</th>\n",
       "      <th>between_meal_Frequently</th>\n",
       "      <th>between_meal_Sometimes</th>\n",
       "      <th>between_meal_no</th>\n",
       "      <th>...</th>\n",
       "      <th>transportation_Public_Transportation</th>\n",
       "      <th>transportation_Walking</th>\n",
       "      <th>Age</th>\n",
       "      <th>Height</th>\n",
       "      <th>Weight</th>\n",
       "      <th>vegetable</th>\n",
       "      <th>frequence_meal</th>\n",
       "      <th>water</th>\n",
       "      <th>physical_activity</th>\n",
       "      <th>technology_time</th>\n",
       "    </tr>\n",
       "  </thead>\n",
       "  <tbody>\n",
       "    <tr>\n",
       "      <th>0</th>\n",
       "      <td>1.0</td>\n",
       "      <td>0.0</td>\n",
       "      <td>0.0</td>\n",
       "      <td>1.0</td>\n",
       "      <td>1.0</td>\n",
       "      <td>0.0</td>\n",
       "      <td>0.0</td>\n",
       "      <td>0.0</td>\n",
       "      <td>1.0</td>\n",
       "      <td>0.0</td>\n",
       "      <td>...</td>\n",
       "      <td>1.0</td>\n",
       "      <td>0.0</td>\n",
       "      <td>-0.522124</td>\n",
       "      <td>-0.875589</td>\n",
       "      <td>-0.862558</td>\n",
       "      <td>-0.785019</td>\n",
       "      <td>0.404153</td>\n",
       "      <td>-0.013073</td>\n",
       "      <td>-1.188039</td>\n",
       "      <td>0.561997</td>\n",
       "    </tr>\n",
       "    <tr>\n",
       "      <th>1</th>\n",
       "      <td>1.0</td>\n",
       "      <td>0.0</td>\n",
       "      <td>0.0</td>\n",
       "      <td>1.0</td>\n",
       "      <td>1.0</td>\n",
       "      <td>0.0</td>\n",
       "      <td>0.0</td>\n",
       "      <td>0.0</td>\n",
       "      <td>1.0</td>\n",
       "      <td>0.0</td>\n",
       "      <td>...</td>\n",
       "      <td>1.0</td>\n",
       "      <td>0.0</td>\n",
       "      <td>-0.522124</td>\n",
       "      <td>-1.947599</td>\n",
       "      <td>-1.168077</td>\n",
       "      <td>1.088342</td>\n",
       "      <td>0.404153</td>\n",
       "      <td>1.618759</td>\n",
       "      <td>2.339750</td>\n",
       "      <td>-1.080625</td>\n",
       "    </tr>\n",
       "    <tr>\n",
       "      <th>2</th>\n",
       "      <td>0.0</td>\n",
       "      <td>1.0</td>\n",
       "      <td>0.0</td>\n",
       "      <td>1.0</td>\n",
       "      <td>1.0</td>\n",
       "      <td>0.0</td>\n",
       "      <td>0.0</td>\n",
       "      <td>0.0</td>\n",
       "      <td>1.0</td>\n",
       "      <td>0.0</td>\n",
       "      <td>...</td>\n",
       "      <td>1.0</td>\n",
       "      <td>0.0</td>\n",
       "      <td>-0.206889</td>\n",
       "      <td>1.054029</td>\n",
       "      <td>-0.366090</td>\n",
       "      <td>-0.785019</td>\n",
       "      <td>0.404153</td>\n",
       "      <td>-0.013073</td>\n",
       "      <td>1.163820</td>\n",
       "      <td>0.561997</td>\n",
       "    </tr>\n",
       "    <tr>\n",
       "      <th>3</th>\n",
       "      <td>0.0</td>\n",
       "      <td>1.0</td>\n",
       "      <td>1.0</td>\n",
       "      <td>0.0</td>\n",
       "      <td>1.0</td>\n",
       "      <td>0.0</td>\n",
       "      <td>0.0</td>\n",
       "      <td>0.0</td>\n",
       "      <td>1.0</td>\n",
       "      <td>0.0</td>\n",
       "      <td>...</td>\n",
       "      <td>0.0</td>\n",
       "      <td>1.0</td>\n",
       "      <td>0.423582</td>\n",
       "      <td>1.054029</td>\n",
       "      <td>0.015808</td>\n",
       "      <td>1.088342</td>\n",
       "      <td>0.404153</td>\n",
       "      <td>-0.013073</td>\n",
       "      <td>1.163820</td>\n",
       "      <td>-1.080625</td>\n",
       "    </tr>\n",
       "    <tr>\n",
       "      <th>4</th>\n",
       "      <td>0.0</td>\n",
       "      <td>1.0</td>\n",
       "      <td>1.0</td>\n",
       "      <td>0.0</td>\n",
       "      <td>1.0</td>\n",
       "      <td>0.0</td>\n",
       "      <td>0.0</td>\n",
       "      <td>0.0</td>\n",
       "      <td>1.0</td>\n",
       "      <td>0.0</td>\n",
       "      <td>...</td>\n",
       "      <td>1.0</td>\n",
       "      <td>0.0</td>\n",
       "      <td>-0.364507</td>\n",
       "      <td>0.839627</td>\n",
       "      <td>0.122740</td>\n",
       "      <td>-0.785019</td>\n",
       "      <td>-2.167023</td>\n",
       "      <td>-0.013073</td>\n",
       "      <td>-1.188039</td>\n",
       "      <td>-1.080625</td>\n",
       "    </tr>\n",
       "  </tbody>\n",
       "</table>\n",
       "<p>5 rows × 31 columns</p>\n",
       "</div>"
      ],
      "text/plain": [
       "   Gender_Female  Gender_Male  genetic_no  genetic_yes  high_calorific_no  \\\n",
       "0            1.0          0.0         0.0          1.0                1.0   \n",
       "1            1.0          0.0         0.0          1.0                1.0   \n",
       "2            0.0          1.0         0.0          1.0                1.0   \n",
       "3            0.0          1.0         1.0          0.0                1.0   \n",
       "4            0.0          1.0         1.0          0.0                1.0   \n",
       "\n",
       "   high_calorific_yes  between_meal_Always  between_meal_Frequently  \\\n",
       "0                 0.0                  0.0                      0.0   \n",
       "1                 0.0                  0.0                      0.0   \n",
       "2                 0.0                  0.0                      0.0   \n",
       "3                 0.0                  0.0                      0.0   \n",
       "4                 0.0                  0.0                      0.0   \n",
       "\n",
       "   between_meal_Sometimes  between_meal_no  ...  \\\n",
       "0                     1.0              0.0  ...   \n",
       "1                     1.0              0.0  ...   \n",
       "2                     1.0              0.0  ...   \n",
       "3                     1.0              0.0  ...   \n",
       "4                     1.0              0.0  ...   \n",
       "\n",
       "   transportation_Public_Transportation  transportation_Walking       Age  \\\n",
       "0                                   1.0                     0.0 -0.522124   \n",
       "1                                   1.0                     0.0 -0.522124   \n",
       "2                                   1.0                     0.0 -0.206889   \n",
       "3                                   0.0                     1.0  0.423582   \n",
       "4                                   1.0                     0.0 -0.364507   \n",
       "\n",
       "     Height    Weight  vegetable  frequence_meal     water  physical_activity  \\\n",
       "0 -0.875589 -0.862558  -0.785019        0.404153 -0.013073          -1.188039   \n",
       "1 -1.947599 -1.168077   1.088342        0.404153  1.618759           2.339750   \n",
       "2  1.054029 -0.366090  -0.785019        0.404153 -0.013073           1.163820   \n",
       "3  1.054029  0.015808   1.088342        0.404153 -0.013073           1.163820   \n",
       "4  0.839627  0.122740  -0.785019       -2.167023 -0.013073          -1.188039   \n",
       "\n",
       "   technology_time  \n",
       "0         0.561997  \n",
       "1        -1.080625  \n",
       "2         0.561997  \n",
       "3        -1.080625  \n",
       "4        -1.080625  \n",
       "\n",
       "[5 rows x 31 columns]"
      ]
     },
     "execution_count": 113,
     "metadata": {},
     "output_type": "execute_result"
    }
   ],
   "source": [
    "df.head()\n"
   ]
  },
  {
   "cell_type": "code",
   "execution_count": 114,
   "id": "adc5faa6",
   "metadata": {},
   "outputs": [
    {
     "data": {
      "text/plain": [
       "Index(['Gender_Female', 'Gender_Male', 'genetic_no', 'genetic_yes',\n",
       "       'high_calorific_no', 'high_calorific_yes', 'between_meal_Always',\n",
       "       'between_meal_Frequently', 'between_meal_Sometimes', 'between_meal_no',\n",
       "       'smoke_no', 'smoke_yes', 'calories_monitoring_no',\n",
       "       'calories_monitoring_yes', 'alcohol_Always', 'alcohol_Frequently',\n",
       "       'alcohol_Sometimes', 'alcohol_no', 'transportation_Automobile',\n",
       "       'transportation_Bike', 'transportation_Motorbike',\n",
       "       'transportation_Public_Transportation', 'transportation_Walking', 'Age',\n",
       "       'Height', 'Weight', 'vegetable', 'frequence_meal', 'water',\n",
       "       'physical_activity', 'technology_time'],\n",
       "      dtype='object')"
      ]
     },
     "execution_count": 114,
     "metadata": {},
     "output_type": "execute_result"
    }
   ],
   "source": [
    "df.columns"
   ]
  },
  {
   "cell_type": "code",
   "execution_count": null,
   "id": "c6f0653b",
   "metadata": {},
   "outputs": [],
   "source": []
  },
  {
   "cell_type": "code",
   "execution_count": null,
   "id": "b4dac2da",
   "metadata": {},
   "outputs": [],
   "source": []
  },
  {
   "cell_type": "code",
   "execution_count": null,
   "id": "17989708",
   "metadata": {},
   "outputs": [],
   "source": []
  },
  {
   "cell_type": "code",
   "execution_count": null,
   "id": "c84f5a2a",
   "metadata": {},
   "outputs": [],
   "source": []
  },
  {
   "cell_type": "code",
   "execution_count": null,
   "id": "43f04c14",
   "metadata": {},
   "outputs": [],
   "source": []
  },
  {
   "cell_type": "markdown",
   "id": "f3391b8e",
   "metadata": {},
   "source": [
    "We normalize the data"
   ]
  },
  {
   "cell_type": "code",
   "execution_count": null,
   "id": "47b33d49",
   "metadata": {},
   "outputs": [],
   "source": []
  },
  {
   "cell_type": "markdown",
   "id": "9e786cb6",
   "metadata": {},
   "source": [
    "## 2) Implementation of the models"
   ]
  },
  {
   "cell_type": "markdown",
   "id": "018aea9e",
   "metadata": {},
   "source": [
    "### Train-test split"
   ]
  },
  {
   "cell_type": "code",
   "execution_count": null,
   "id": "9bd93edb",
   "metadata": {},
   "outputs": [],
   "source": []
  },
  {
   "cell_type": "code",
   "execution_count": 115,
   "id": "f0c5c774",
   "metadata": {},
   "outputs": [],
   "source": [
    "from sklearn.model_selection import train_test_split\n",
    "\n",
    "X=df\n",
    "\n",
    "# Split dataset into training set and test set\n",
    "X_train, X_test, y_train, y_test = train_test_split(X, y, test_size=0.3) "
   ]
  },
  {
   "cell_type": "markdown",
   "id": "ef6b1f32",
   "metadata": {},
   "source": [
    "### First model"
   ]
  },
  {
   "cell_type": "markdown",
   "id": "97564f4c",
   "metadata": {},
   "source": [
    "First we choose to apply a random forest model to the data, keeping all the features and columns"
   ]
  },
  {
   "cell_type": "code",
   "execution_count": 116,
   "id": "3bbf16c1",
   "metadata": {},
   "outputs": [],
   "source": [
    "#Import Random Forest Model\n",
    "from sklearn.ensemble import RandomForestClassifier\n",
    "\n",
    "#Create a Gaussian Classifier\n",
    "clf=RandomForestClassifier(n_estimators=100)\n",
    "\n",
    "#Train the model using the training sets y_pred=clf.predict(X_test)\n",
    "clf.fit(X_train,y_train)\n",
    "\n",
    "y_pred=clf.predict(X_test)\n"
   ]
  },
  {
   "cell_type": "code",
   "execution_count": 117,
   "id": "9325df18",
   "metadata": {},
   "outputs": [
    {
     "name": "stdout",
     "output_type": "stream",
     "text": [
      "Accuracy: 0.9558359621451105\n"
     ]
    }
   ],
   "source": [
    "from sklearn import metrics\n",
    "# Model Accuracy, how often is the classifier correct?\n",
    "print(\"Accuracy:\",metrics.accuracy_score(y_test, y_pred))"
   ]
  },
  {
   "cell_type": "markdown",
   "id": "7662b35c",
   "metadata": {},
   "source": [
    "### Comparison of the models"
   ]
  },
  {
   "cell_type": "markdown",
   "id": "7f0ff899",
   "metadata": {},
   "source": [
    "We try several models and compare them to see which one gets the best accuracy"
   ]
  },
  {
   "cell_type": "code",
   "execution_count": 118,
   "id": "a64ec68f",
   "metadata": {},
   "outputs": [],
   "source": [
    "def Test_algo_Obesity(models, labels,train_x,test_x,train_y,test_y):\n",
    "    dict_train_score={}\n",
    "    dict_test_score={}\n",
    "    for k in range(len(models)):\n",
    "        model=models[k]\n",
    "        model.fit(train_x,train_y)\n",
    "        dict_train_score[labels[k]]=model.score(train_x,train_y)\n",
    "        dict_test_score[labels[k]]=model.score(test_x,test_y)\n",
    "        print(\"Test {} score ={: 0.3f}\".format(labels[k],dict_test_score[labels[k]]))\n",
    "    print(\"\\nbest Model for Obesity dataset is {} with test score :{: 0.3f}\".format(max(dict_test_score, key=dict_test_score.get),dict_test_score[max(dict_test_score, key=dict_test_score.get)]))\n",
    "    return max(dict_test_score, key=dict_test_score.get)"
   ]
  },
  {
   "cell_type": "code",
   "execution_count": 119,
   "id": "2f6fb6c4",
   "metadata": {},
   "outputs": [],
   "source": [
    "models_liste=[svm.SVC(),tree.DecisionTreeClassifier(),RandomForestClassifier(n_estimators=500),KNeighborsClassifier(),LogisticRegression()]\n",
    "labels_liste=[\"SVM\",\"Desicion tree\",\"RandomForest\",\"KNeighbors\",\"LogisticRegression\"]"
   ]
  },
  {
   "cell_type": "code",
   "execution_count": 120,
   "id": "6580488e",
   "metadata": {},
   "outputs": [
    {
     "name": "stdout",
     "output_type": "stream",
     "text": [
      "Test SVM score = 0.927\n",
      "Test Desicion tree score = 0.931\n",
      "Test RandomForest score = 0.954\n",
      "Test KNeighbors score = 0.834\n",
      "Test LogisticRegression score = 0.886\n",
      "\n",
      "best Model for Obesity dataset is RandomForest with test score : 0.954\n"
     ]
    },
    {
     "data": {
      "text/plain": [
       "'RandomForest'"
      ]
     },
     "execution_count": 120,
     "metadata": {},
     "output_type": "execute_result"
    }
   ],
   "source": [
    "Test_algo_Obesity(models_liste, labels_liste,X_train, X_test, y_train, y_test)"
   ]
  },
  {
   "cell_type": "markdown",
   "id": "f6cd2e92",
   "metadata": {},
   "source": [
    "### Features importance"
   ]
  },
  {
   "cell_type": "markdown",
   "id": "390686ee",
   "metadata": {},
   "source": [
    "Now let's see the importance of the different features on the model"
   ]
  },
  {
   "cell_type": "code",
   "execution_count": 121,
   "id": "769e1f62",
   "metadata": {},
   "outputs": [],
   "source": [
    "import numpy as np\n",
    "\n",
    "importances = clf.feature_importances_\n",
    "std = np.std([tree.feature_importances_ for tree in clf.estimators_], axis=0)"
   ]
  },
  {
   "cell_type": "code",
   "execution_count": 122,
   "id": "fde1654d",
   "metadata": {},
   "outputs": [],
   "source": [
    "feature_names = [f\"feature {i}\" for i in range(X_train.shape[1])]"
   ]
  },
  {
   "cell_type": "code",
   "execution_count": 123,
   "id": "3e9b0d0b",
   "metadata": {},
   "outputs": [],
   "source": [
    "import matplotlib.pyplot as plt"
   ]
  },
  {
   "cell_type": "code",
   "execution_count": 124,
   "id": "48770acb",
   "metadata": {},
   "outputs": [
    {
     "data": {
      "image/png": "[encoded data removed]",
      "text/plain": [
       "<Figure size 432x288 with 1 Axes>"
      ]
     },
     "metadata": {
      "needs_background": "light"
     },
     "output_type": "display_data"
    }
   ],
   "source": [
    "forest_importances = pd.Series(importances, index=X_train.columns)\n",
    "\n",
    "fig, ax = plt.subplots()\n",
    "forest_importances.plot.bar(yerr=std, ax=ax)\n",
    "ax.set_title(\"Feature importances using MDI\")\n",
    "ax.set_ylabel(\"Mean decrease in impurity\")\n",
    "fig.tight_layout()"
   ]
  },
  {
   "cell_type": "markdown",
   "id": "32c42ede",
   "metadata": {},
   "source": [
    "We see that smoke, calories_monitoring have almost no impact, that's why we will remove them : thus, we can ask fewer questions to the sample."
   ]
  },
  {
   "cell_type": "markdown",
   "id": "73a141f9",
   "metadata": {},
   "source": [
    "Let's remove these columns and analyze the results"
   ]
  },
  {
   "cell_type": "code",
   "execution_count": 125,
   "id": "1702f987",
   "metadata": {},
   "outputs": [],
   "source": [
    "from sklearn.model_selection import train_test_split\n",
    "\n",
    "X=df.drop(['smoke_no','smoke_yes','calories_monitoring_no',\"calories_monitoring_yes\"],axis=1)\n",
    "\n",
    "# Split dataset into training set and test set\n",
    "X_train, X_test, y_train, y_test = train_test_split(X, y, test_size=0.3) "
   ]
  },
  {
   "cell_type": "code",
   "execution_count": 126,
   "id": "b1ffc863",
   "metadata": {},
   "outputs": [
    {
     "name": "stdout",
     "output_type": "stream",
     "text": [
      "Test SVM score = 0.913\n",
      "Test Desicion tree score = 0.913\n",
      "Test RandomForest score = 0.934\n",
      "Test KNeighbors score = 0.834\n",
      "Test LogisticRegression score = 0.871\n",
      "\n",
      "best Model for Obesity dataset is RandomForest with test score : 0.934\n"
     ]
    },
    {
     "data": {
      "text/plain": [
       "'RandomForest'"
      ]
     },
     "execution_count": 126,
     "metadata": {},
     "output_type": "execute_result"
    }
   ],
   "source": [
    "Test_algo_Obesity(models_liste, labels_liste,X_train, X_test, y_train, y_test)"
   ]
  },
  {
   "cell_type": "markdown",
   "id": "5bb0fe25",
   "metadata": {},
   "source": [
    "We see that by removing these 2 columns, we even get a better accuracy"
   ]
  },
  {
   "cell_type": "markdown",
   "id": "4bc47bec",
   "metadata": {},
   "source": [
    "### Grid search"
   ]
  },
  {
   "cell_type": "code",
   "execution_count": null,
   "id": "11294449",
   "metadata": {},
   "outputs": [],
   "source": []
  },
  {
   "cell_type": "markdown",
   "id": "413cf271",
   "metadata": {},
   "source": [
    "We try the random forest model (the best so far) with different hyperparameters and see which ones are the best"
   ]
  },
  {
   "cell_type": "code",
   "execution_count": 128,
   "id": "7ea986e6",
   "metadata": {},
   "outputs": [
    {
     "name": "stdout",
     "output_type": "stream",
     "text": [
      "grid params best model {'criterion': 'gini', 'max_depth': 4, 'n_estimators': 23}\n",
      "grid score best model 0.7684333486028401\n",
      "test score best model 0.7854889589905363\n"
     ]
    }
   ],
   "source": [
    "param_grid={\"max_depth\":[k for k in range(5)],\"n_estimators\":[k for k in range(21,24)],\"criterion\":[\"gini\",\"entropy\",\"log_loss\"]}\n",
    "grid=GridSearchCV(RandomForestClassifier(),param_grid)\n",
    "grid.fit(X_train,y_train)\n",
    "print('grid params best model',grid.best_params_)\n",
    "print('grid score best model',grid.best_score_)\n",
    "best_model=grid.best_estimator_\n",
    "print('test score best model', best_model.score(X_test,y_test))"
   ]
  },
  {
   "cell_type": "code",
   "execution_count": null,
   "id": "829a65ab",
   "metadata": {},
   "outputs": [],
   "source": []
  },
  {
   "cell_type": "code",
   "execution_count": null,
   "id": "77dbf85b",
   "metadata": {},
   "outputs": [],
   "source": []
  },
  {
   "cell_type": "code",
   "execution_count": null,
   "id": "b3d2acd9",
   "metadata": {},
   "outputs": [],
   "source": []
  },
  {
   "cell_type": "code",
   "execution_count": null,
   "id": "0e7293a2",
   "metadata": {},
   "outputs": [],
   "source": []
  },
  {
   "cell_type": "code",
   "execution_count": null,
   "metadata": {},
   "outputs": [],
   "source": []
  },
  {
   "cell_type": "code",
   "execution_count": null,
   "metadata": {},
   "outputs": [],
   "source": []
  },
  {
   "cell_type": "code",
   "execution_count": null,
   "metadata": {},
   "outputs": [],
   "source": []
  }
 ],
 "metadata": {
  "kernelspec": {
   "display_name": "Python 3 (ipykernel)",
   "language": "python",
   "name": "python3"
  },
  "language_info": {
   "codemirror_mode": {
    "name": "ipython",
    "version": 3
   },
   "file_extension": ".py",
   "mimetype": "text/x-python",
   "name": "python",
   "nbconvert_exporter": "python",
   "pygments_lexer": "ipython3",
   "version": "3.8.9"
  }
 },
 "nbformat": 4,
 "nbformat_minor": 5
}
