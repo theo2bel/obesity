{
 "cells": [
  {
   "cell_type": "markdown",
   "id": "a62a125f",
   "metadata": {},
   "source": [
    "# Obesity project"
   ]
  },
  {
   "cell_type": "markdown",
   "id": "720bc243",
   "metadata": {},
   "source": [
    "## 1) Importation and cleaning"
   ]
  },
  {
   "cell_type": "code",
   "execution_count": 148,
   "id": "d01930fb",
   "metadata": {},
   "outputs": [],
   "source": [
    "import pandas as pd\n",
    "from sklearn.linear_model import LinearRegression, Ridge, Lasso,SGDRegressor,LogisticRegression\n",
    "from sklearn import svm,tree\n",
    "from sklearn.neighbors import KNeighborsClassifier\n",
    "import warnings\n",
    "from sklearn.model_selection import GridSearchCV"
   ]
  },
  {
   "cell_type": "code",
   "execution_count": 149,
   "id": "9ecc81a0",
   "metadata": {},
   "outputs": [],
   "source": [
    "warnings.filterwarnings('ignore')"
   ]
  },
  {
   "cell_type": "code",
   "execution_count": 150,
   "id": "cd3bdece",
   "metadata": {},
   "outputs": [],
   "source": [
    "df=pd.read_csv(\"C:/Users/theo2/OneDrive/Documents/A4\\Python for Data Analysis/PROJET FINAL/ObesityDataSet_raw_and_data_sinthetic.csv\")"
   ]
  },
  {
   "cell_type": "code",
   "execution_count": 151,
   "id": "c2873baf",
   "metadata": {},
   "outputs": [],
   "source": [
    "df=df.rename(columns = {\"family_history_with_overweight\": \"genetic\",\n",
    "                          \"FAVC\": \"high_calorific\",\n",
    "                          \"FCVC\": \"vegetable\",\n",
    "                          \"NCP\": \"frequence_meal\",\n",
    "                          \"CAEC\": \"between_meal\",\n",
    "                          \"CH2O\": \"water\",\n",
    "                          \"SCC\": \"calories_monitoring\",\n",
    "                          \"FAF\": \"physical_activity\",\n",
    "                          \"TUE\": \"technology_time\",\n",
    "                          \"CALC\": \"alcohol\",\n",
    "                          \"MTRANS\": \"transportation\",\n",
    "                          \"NObeyesdad\": \"obesity\",\n",
    "                          \"SMOKE\":\"smoke\",  \n",
    "                         })"
   ]
  },
  {
   "cell_type": "markdown",
   "id": "0ce776d9",
   "metadata": {},
   "source": [
    "We apply the normal encoding on the columns that have 2 possible values"
   ]
  },
  {
   "cell_type": "code",
   "execution_count": 152,
   "id": "060afffa",
   "metadata": {},
   "outputs": [],
   "source": [
    "df['genetic'] = df['genetic'].map({'yes': 1, 'no': 0})\n",
    "df['high_calorific'] = df['high_calorific'].map({'yes': 1, 'no': 0})\n",
    "df['smoke'] = df['smoke'].map({'yes': 1, 'no': 0})\n",
    "df['calories_monitoring'] = df['calories_monitoring'].map({'yes': 1, 'no': 0})\n",
    "df['Gender'] = df['Gender'].map({'Male': 1, 'Female': 0})\n",
    "df['obesity'] = df['obesity'].map({'Insufficient_Weight': 0, 'Normal_Weight': 1,'Overweight_Level_I': 2, 'Overweight_Level_II': 3,'Obesity_Type_I': 4, 'Obesity_Type_II': 5, 'Obesity_Type_III': 6})\n",
    "\n"
   ]
  },
  {
   "cell_type": "code",
   "execution_count": 153,
   "id": "25d9aca2",
   "metadata": {},
   "outputs": [],
   "source": [
    "#df.drop_duplicates(inplace=True) : dire dans le rapport pk on le fait pas"
   ]
  },
  {
   "cell_type": "markdown",
   "id": "c88a610f",
   "metadata": {},
   "source": [
    "Here we choose to apply the one-hot encoding on the 3 columns that have more than 2 possible values"
   ]
  },
  {
   "cell_type": "code",
   "execution_count": 154,
   "id": "bf648145",
   "metadata": {},
   "outputs": [],
   "source": [
    "from sklearn.preprocessing import OneHotEncoder"
   ]
  },
  {
   "cell_type": "code",
   "execution_count": 155,
   "id": "b4186b44",
   "metadata": {},
   "outputs": [],
   "source": [
    "ohe=OneHotEncoder(categories='auto')"
   ]
  },
  {
   "cell_type": "code",
   "execution_count": 156,
   "id": "fbfe658a",
   "metadata": {},
   "outputs": [
    {
     "name": "stdout",
     "output_type": "stream",
     "text": [
      "OneHotEncoder()\n"
     ]
    }
   ],
   "source": [
    "print(ohe)"
   ]
  },
  {
   "cell_type": "code",
   "execution_count": 157,
   "id": "adc5faa6",
   "metadata": {},
   "outputs": [],
   "source": [
    "variables_list=['between_meal', 'alcohol','transportation']"
   ]
  },
  {
   "cell_type": "code",
   "execution_count": 158,
   "id": "c6f0653b",
   "metadata": {},
   "outputs": [],
   "source": [
    "feature_arry=ohe.fit_transform(df[variables_list]).toarray()"
   ]
  },
  {
   "cell_type": "code",
   "execution_count": 159,
   "id": "b4dac2da",
   "metadata": {},
   "outputs": [],
   "source": [
    "feature_labels = ohe.get_feature_names(variables_list)"
   ]
  },
  {
   "cell_type": "code",
   "execution_count": 160,
   "id": "17989708",
   "metadata": {},
   "outputs": [],
   "source": [
    "encoded_columns=pd.DataFrame(feature_arry,columns=feature_labels)"
   ]
  },
  {
   "cell_type": "code",
   "execution_count": 161,
   "id": "c84f5a2a",
   "metadata": {},
   "outputs": [],
   "source": [
    "df=pd.concat([encoded_columns,df.drop(['between_meal', 'alcohol','transportation'],axis=1)],axis=1)"
   ]
  },
  {
   "cell_type": "code",
   "execution_count": 162,
   "id": "43f04c14",
   "metadata": {},
   "outputs": [],
   "source": [
    "#df=pd.get_dummies(df, columns=['between_meal', 'alcohol','transportation'])"
   ]
  },
  {
   "cell_type": "markdown",
   "id": "f3391b8e",
   "metadata": {},
   "source": [
    "We normalize the data"
   ]
  },
  {
   "cell_type": "code",
   "execution_count": 163,
   "id": "47b33d49",
   "metadata": {},
   "outputs": [],
   "source": [
    "from sklearn.preprocessing import Normalizer\n",
    "test_df=df.obesity\n",
    "df=df.drop('obesity',axis=1)\n",
    "df.iloc[:,1:-1] = Normalizer().fit_transform(df.iloc[:,1:-1])"
   ]
  },
  {
   "cell_type": "markdown",
   "id": "9e786cb6",
   "metadata": {},
   "source": [
    "## 2) Implementation of the models"
   ]
  },
  {
   "cell_type": "markdown",
   "id": "018aea9e",
   "metadata": {},
   "source": [
    "### Train-test split"
   ]
  },
  {
   "cell_type": "code",
   "execution_count": 164,
   "id": "9bd93edb",
   "metadata": {},
   "outputs": [],
   "source": [
    "test_df=test_df.to_frame()"
   ]
  },
  {
   "cell_type": "code",
   "execution_count": 165,
   "id": "f0c5c774",
   "metadata": {},
   "outputs": [],
   "source": [
    "from sklearn.model_selection import train_test_split\n",
    "\n",
    "X=df\n",
    "y=test_df.obesity  # Labels\n",
    "\n",
    "# Split dataset into training set and test set\n",
    "X_train, X_test, y_train, y_test = train_test_split(X, y, test_size=0.3) "
   ]
  },
  {
   "cell_type": "markdown",
   "id": "ef6b1f32",
   "metadata": {},
   "source": [
    "### First model"
   ]
  },
  {
   "cell_type": "markdown",
   "id": "97564f4c",
   "metadata": {},
   "source": [
    "First we choose to apply a random forest model to the data, keeping all the features and columns"
   ]
  },
  {
   "cell_type": "code",
   "execution_count": 166,
   "id": "3bbf16c1",
   "metadata": {},
   "outputs": [],
   "source": [
    "#Import Random Forest Model\n",
    "from sklearn.ensemble import RandomForestClassifier\n",
    "\n",
    "#Create a Gaussian Classifier\n",
    "clf=RandomForestClassifier(n_estimators=100)\n",
    "\n",
    "#Train the model using the training sets y_pred=clf.predict(X_test)\n",
    "clf.fit(X_train,y_train)\n",
    "\n",
    "y_pred=clf.predict(X_test)\n"
   ]
  },
  {
   "cell_type": "code",
   "execution_count": 167,
   "id": "9325df18",
   "metadata": {},
   "outputs": [
    {
     "name": "stdout",
     "output_type": "stream",
     "text": [
      "Accuracy: 0.9400630914826499\n"
     ]
    }
   ],
   "source": [
    "from sklearn import metrics\n",
    "# Model Accuracy, how often is the classifier correct?\n",
    "print(\"Accuracy:\",metrics.accuracy_score(y_test, y_pred))"
   ]
  },
  {
   "cell_type": "markdown",
   "id": "7662b35c",
   "metadata": {},
   "source": [
    "### Comparison of the models"
   ]
  },
  {
   "cell_type": "markdown",
   "id": "7f0ff899",
   "metadata": {},
   "source": [
    "We try several models and compare them to see which one gets the best accuracy"
   ]
  },
  {
   "cell_type": "code",
   "execution_count": 168,
   "id": "a64ec68f",
   "metadata": {},
   "outputs": [],
   "source": [
    "def Test_algo_Obesity(models, labels,train_x,test_x,train_y,test_y):\n",
    "    dict_train_score={}\n",
    "    dict_test_score={}\n",
    "    for k in range(len(models)):\n",
    "        model=models[k]\n",
    "        model.fit(train_x,train_y)\n",
    "        dict_train_score[labels[k]]=model.score(train_x,train_y)\n",
    "        dict_test_score[labels[k]]=model.score(test_x,test_y)\n",
    "        print(\"Test {} score ={: 0.3f}\".format(labels[k],dict_test_score[labels[k]]))\n",
    "    print(\"\\nbest Model for Obesity dataset is {} with test score :{: 0.3f}\".format(max(dict_test_score, key=dict_test_score.get),dict_test_score[max(dict_test_score, key=dict_test_score.get)]))\n",
    "    return max(dict_test_score, key=dict_test_score.get)"
   ]
  },
  {
   "cell_type": "code",
   "execution_count": 169,
   "id": "2f6fb6c4",
   "metadata": {},
   "outputs": [],
   "source": [
    "models_liste=[svm.SVC(),tree.DecisionTreeClassifier(),RandomForestClassifier(n_estimators=500),KNeighborsClassifier(),LogisticRegression()]\n",
    "labels_liste=[\"SVM\",\"Desicion tree\",\"RandomForest\",\"KNeighbors\",\"LogisticRegression\"]"
   ]
  },
  {
   "cell_type": "code",
   "execution_count": 170,
   "id": "6580488e",
   "metadata": {},
   "outputs": [
    {
     "name": "stdout",
     "output_type": "stream",
     "text": [
      "Test SVM score = 0.383\n",
      "Test Desicion tree score = 0.902\n",
      "Test RandomForest score = 0.945\n",
      "Test KNeighbors score = 0.634\n",
      "Test LogisticRegression score = 0.339\n",
      "\n",
      "best Model for Obesity dataset is RandomForest with test score : 0.945\n"
     ]
    },
    {
     "data": {
      "text/plain": [
       "'RandomForest'"
      ]
     },
     "execution_count": 170,
     "metadata": {},
     "output_type": "execute_result"
    }
   ],
   "source": [
    "Test_algo_Obesity(models_liste, labels_liste,X_train, X_test, y_train, y_test)"
   ]
  },
  {
   "cell_type": "markdown",
   "id": "f6cd2e92",
   "metadata": {},
   "source": [
    "### Features importance"
   ]
  },
  {
   "cell_type": "markdown",
   "id": "390686ee",
   "metadata": {},
   "source": [
    "Now let's see the importance of the different features on the model"
   ]
  },
  {
   "cell_type": "code",
   "execution_count": 171,
   "id": "769e1f62",
   "metadata": {},
   "outputs": [],
   "source": [
    "import numpy as np\n",
    "\n",
    "importances = clf.feature_importances_\n",
    "std = np.std([tree.feature_importances_ for tree in clf.estimators_], axis=0)"
   ]
  },
  {
   "cell_type": "code",
   "execution_count": 172,
   "id": "fde1654d",
   "metadata": {},
   "outputs": [],
   "source": [
    "feature_names = [f\"feature {i}\" for i in range(X_train.shape[1])]"
   ]
  },
  {
   "cell_type": "code",
   "execution_count": 173,
   "id": "3e9b0d0b",
   "metadata": {},
   "outputs": [],
   "source": [
    "import matplotlib.pyplot as plt"
   ]
  },
  {
   "cell_type": "code",
   "execution_count": 174,
   "id": "48770acb",
   "metadata": {},
   "outputs": [
    {
     "data": {
      "image/png": "[encoded data removed]",
      "text/plain": [
       "<Figure size 640x480 with 1 Axes>"
      ]
     },
     "metadata": {},
     "output_type": "display_data"
    }
   ],
   "source": [
    "forest_importances = pd.Series(importances, index=X_train.columns)\n",
    "\n",
    "fig, ax = plt.subplots()\n",
    "forest_importances.plot.bar(yerr=std, ax=ax)\n",
    "ax.set_title(\"Feature importances using MDI\")\n",
    "ax.set_ylabel(\"Mean decrease in impurity\")\n",
    "fig.tight_layout()"
   ]
  },
  {
   "cell_type": "markdown",
   "id": "32c42ede",
   "metadata": {},
   "source": [
    "We see that smoke, calories_monitoring have almost no impact, that's why we will remove them : thus, we can ask fewer questions to the sample."
   ]
  },
  {
   "cell_type": "markdown",
   "id": "73a141f9",
   "metadata": {},
   "source": [
    "Let's remove these columns and analyze the results"
   ]
  },
  {
   "cell_type": "code",
   "execution_count": 175,
   "id": "1702f987",
   "metadata": {},
   "outputs": [],
   "source": [
    "from sklearn.model_selection import train_test_split\n",
    "\n",
    "X=df.drop(['smoke','calories_monitoring'],axis=1)\n",
    "y=test_df.obesity  # Labels\n",
    "\n",
    "# Split dataset into training set and test set\n",
    "X_train, X_test, y_train, y_test = train_test_split(X, y, test_size=0.3) "
   ]
  },
  {
   "cell_type": "code",
   "execution_count": 176,
   "id": "b1ffc863",
   "metadata": {},
   "outputs": [
    {
     "name": "stdout",
     "output_type": "stream",
     "text": [
      "Test SVM score = 0.394\n",
      "Test Desicion tree score = 0.891\n",
      "Test RandomForest score = 0.942\n",
      "Test KNeighbors score = 0.604\n",
      "Test LogisticRegression score = 0.345\n",
      "\n",
      "best Model for Obesity dataset is RandomForest with test score : 0.942\n"
     ]
    },
    {
     "data": {
      "text/plain": [
       "'RandomForest'"
      ]
     },
     "execution_count": 176,
     "metadata": {},
     "output_type": "execute_result"
    }
   ],
   "source": [
    "Test_algo_Obesity(models_liste, labels_liste,X_train, X_test, y_train, y_test)"
   ]
  },
  {
   "cell_type": "markdown",
   "id": "5bb0fe25",
   "metadata": {},
   "source": [
    "We see that by removing these 2 columns, we even get a better accuracy"
   ]
  },
  {
   "cell_type": "markdown",
   "id": "4bc47bec",
   "metadata": {},
   "source": [
    "### Grid search"
   ]
  },
  {
   "cell_type": "code",
   "execution_count": null,
   "id": "11294449",
   "metadata": {},
   "outputs": [],
   "source": []
  },
  {
   "cell_type": "markdown",
   "id": "413cf271",
   "metadata": {},
   "source": [
    "We try the random forest model (the best so far) with different hyperparameters and see which ones are the best"
   ]
  },
  {
   "cell_type": "code",
   "execution_count": 177,
   "id": "7ea986e6",
   "metadata": {},
   "outputs": [
    {
     "name": "stdout",
     "output_type": "stream",
     "text": [
      "grid params best model {'criterion': 'entropy', 'max_depth': 4, 'n_estimators': 22}\n",
      "grid score best model 0.8388845625286303\n",
      "test score best model 0.8201892744479495\n"
     ]
    }
   ],
   "source": [
    "param_grid={\"max_depth\":[k for k in range(5)],\"n_estimators\":[k for k in range(21,24)],\"criterion\":[\"gini\",\"entropy\",\"log_loss\"]}\n",
    "grid=GridSearchCV(RandomForestClassifier(),param_grid)\n",
    "grid.fit(X_train,y_train)\n",
    "print('grid params best model',grid.best_params_)\n",
    "print('grid score best model',grid.best_score_)\n",
    "best_model=grid.best_estimator_\n",
    "print('test score best model', best_model.score(X_test,y_test))"
   ]
  },
  {
   "cell_type": "code",
   "execution_count": null,
   "id": "829a65ab",
   "metadata": {},
   "outputs": [],
   "source": []
  },
  {
   "cell_type": "code",
   "execution_count": null,
   "id": "77dbf85b",
   "metadata": {},
   "outputs": [],
   "source": []
  },
  {
   "cell_type": "code",
   "execution_count": null,
   "id": "b3d2acd9",
   "metadata": {},
   "outputs": [],
   "source": []
  },
  {
   "cell_type": "code",
   "execution_count": null,
   "id": "0e7293a2",
   "metadata": {},
   "outputs": [],
   "source": []
  }
 ],
 "metadata": {
  "kernelspec": {
   "display_name": "Python 3 (ipykernel)",
   "language": "python",
   "name": "python3"
  },
  "language_info": {
   "codemirror_mode": {
    "name": "ipython",
    "version": 3
   },
   "file_extension": ".py",
   "mimetype": "text/x-python",
   "name": "python",
   "nbconvert_exporter": "python",
   "pygments_lexer": "ipython3",
   "version": "3.11.0"
  }
 },
 "nbformat": 4,
 "nbformat_minor": 5
}
