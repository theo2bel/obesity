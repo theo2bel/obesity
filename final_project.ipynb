{
 "cells": [
  {
   "cell_type": "markdown",
   "id": "a62a125f",
   "metadata": {},
   "source": [
    "# Obesity project"
   ]
  },
  {
   "cell_type": "markdown",
   "id": "720bc243",
   "metadata": {},
   "source": [
    "## 1) Importation and cleaning"
   ]
  },
  {
   "cell_type": "code",
   "execution_count": 139,
   "id": "d01930fb",
   "metadata": {},
   "outputs": [],
   "source": [
    "import pandas as pd\n",
    "from sklearn.linear_model import LinearRegression, Ridge, Lasso,SGDRegressor,LogisticRegression\n",
    "from sklearn import svm,tree\n",
    "from sklearn.neighbors import KNeighborsClassifier\n",
    "import warnings\n",
    "from sklearn.model_selection import GridSearchCV\n",
    "from sklearn.preprocessing import Normalizer, StandardScaler"
   ]
  },
  {
   "cell_type": "code",
   "execution_count": 140,
   "id": "9ecc81a0",
   "metadata": {},
   "outputs": [],
   "source": [
    "warnings.filterwarnings('ignore')"
   ]
  },
  {
   "cell_type": "code",
   "execution_count": 179,
   "id": "cd3bdece",
   "metadata": {},
   "outputs": [],
   "source": [
    "df=pd.read_csv(\"ObesityDataSet_raw_and_data_sinthetic.csv\")"
   ]
  },
  {
   "cell_type": "code",
   "execution_count": 180,
   "id": "c2873baf",
   "metadata": {},
   "outputs": [],
   "source": [
    "df=df.rename(columns = {\"family_history_with_overweight\": \"genetic\",\n",
    "                          \"FAVC\": \"high_calorific\",\n",
    "                          \"FCVC\": \"vegetable\",\n",
    "                          \"NCP\": \"frequence_meal\",\n",
    "                          \"CAEC\": \"between_meal\",\n",
    "                          \"CH2O\": \"water\",\n",
    "                          \"SCC\": \"calories_monitoring\",\n",
    "                          \"FAF\": \"physical_activity\",\n",
    "                          \"TUE\": \"technology_time\",\n",
    "                          \"CALC\": \"alcohol\",\n",
    "                          \"MTRANS\": \"transportation\",\n",
    "                          \"NObeyesdad\": \"obesity\",\n",
    "                          \"SMOKE\":\"smoke\",  \n",
    "                         })"
   ]
  },
  {
   "cell_type": "markdown",
   "id": "0ce776d9",
   "metadata": {},
   "source": [
    "We apply the normal encoding on the columns that have 2 possible values"
   ]
  },
  {
   "cell_type": "code",
   "execution_count": 181,
   "id": "060afffa",
   "metadata": {},
   "outputs": [],
   "source": [
    "y=df.obesity  # target\n",
    "df=df.drop('obesity',axis=1)"
   ]
  },
  {
   "cell_type": "code",
   "execution_count": 182,
   "id": "25d9aca2",
   "metadata": {},
   "outputs": [
    {
     "data": {
      "text/html": [
       "<div>\n",
       "<style scoped>\n",
       "    .dataframe tbody tr th:only-of-type {\n",
       "        vertical-align: middle;\n",
       "    }\n",
       "\n",
       "    .dataframe tbody tr th {\n",
       "        vertical-align: top;\n",
       "    }\n",
       "\n",
       "    .dataframe thead th {\n",
       "        text-align: right;\n",
       "    }\n",
       "</style>\n",
       "<table border=\"1\" class=\"dataframe\">\n",
       "  <thead>\n",
       "    <tr style=\"text-align: right;\">\n",
       "      <th></th>\n",
       "      <th>Gender</th>\n",
       "      <th>Age</th>\n",
       "      <th>Height</th>\n",
       "      <th>Weight</th>\n",
       "      <th>genetic</th>\n",
       "      <th>high_calorific</th>\n",
       "      <th>vegetable</th>\n",
       "      <th>frequence_meal</th>\n",
       "      <th>between_meal</th>\n",
       "      <th>smoke</th>\n",
       "      <th>water</th>\n",
       "      <th>calories_monitoring</th>\n",
       "      <th>physical_activity</th>\n",
       "      <th>technology_time</th>\n",
       "      <th>alcohol</th>\n",
       "      <th>transportation</th>\n",
       "    </tr>\n",
       "  </thead>\n",
       "  <tbody>\n",
       "    <tr>\n",
       "      <th>0</th>\n",
       "      <td>Female</td>\n",
       "      <td>21.0</td>\n",
       "      <td>1.62</td>\n",
       "      <td>64.0</td>\n",
       "      <td>yes</td>\n",
       "      <td>no</td>\n",
       "      <td>2.0</td>\n",
       "      <td>3.0</td>\n",
       "      <td>Sometimes</td>\n",
       "      <td>no</td>\n",
       "      <td>2.0</td>\n",
       "      <td>no</td>\n",
       "      <td>0.0</td>\n",
       "      <td>1.0</td>\n",
       "      <td>no</td>\n",
       "      <td>Public_Transportation</td>\n",
       "    </tr>\n",
       "    <tr>\n",
       "      <th>1</th>\n",
       "      <td>Female</td>\n",
       "      <td>21.0</td>\n",
       "      <td>1.52</td>\n",
       "      <td>56.0</td>\n",
       "      <td>yes</td>\n",
       "      <td>no</td>\n",
       "      <td>3.0</td>\n",
       "      <td>3.0</td>\n",
       "      <td>Sometimes</td>\n",
       "      <td>yes</td>\n",
       "      <td>3.0</td>\n",
       "      <td>yes</td>\n",
       "      <td>3.0</td>\n",
       "      <td>0.0</td>\n",
       "      <td>Sometimes</td>\n",
       "      <td>Public_Transportation</td>\n",
       "    </tr>\n",
       "    <tr>\n",
       "      <th>2</th>\n",
       "      <td>Male</td>\n",
       "      <td>23.0</td>\n",
       "      <td>1.80</td>\n",
       "      <td>77.0</td>\n",
       "      <td>yes</td>\n",
       "      <td>no</td>\n",
       "      <td>2.0</td>\n",
       "      <td>3.0</td>\n",
       "      <td>Sometimes</td>\n",
       "      <td>no</td>\n",
       "      <td>2.0</td>\n",
       "      <td>no</td>\n",
       "      <td>2.0</td>\n",
       "      <td>1.0</td>\n",
       "      <td>Frequently</td>\n",
       "      <td>Public_Transportation</td>\n",
       "    </tr>\n",
       "    <tr>\n",
       "      <th>3</th>\n",
       "      <td>Male</td>\n",
       "      <td>27.0</td>\n",
       "      <td>1.80</td>\n",
       "      <td>87.0</td>\n",
       "      <td>no</td>\n",
       "      <td>no</td>\n",
       "      <td>3.0</td>\n",
       "      <td>3.0</td>\n",
       "      <td>Sometimes</td>\n",
       "      <td>no</td>\n",
       "      <td>2.0</td>\n",
       "      <td>no</td>\n",
       "      <td>2.0</td>\n",
       "      <td>0.0</td>\n",
       "      <td>Frequently</td>\n",
       "      <td>Walking</td>\n",
       "    </tr>\n",
       "    <tr>\n",
       "      <th>4</th>\n",
       "      <td>Male</td>\n",
       "      <td>22.0</td>\n",
       "      <td>1.78</td>\n",
       "      <td>89.8</td>\n",
       "      <td>no</td>\n",
       "      <td>no</td>\n",
       "      <td>2.0</td>\n",
       "      <td>1.0</td>\n",
       "      <td>Sometimes</td>\n",
       "      <td>no</td>\n",
       "      <td>2.0</td>\n",
       "      <td>no</td>\n",
       "      <td>0.0</td>\n",
       "      <td>0.0</td>\n",
       "      <td>Sometimes</td>\n",
       "      <td>Public_Transportation</td>\n",
       "    </tr>\n",
       "  </tbody>\n",
       "</table>\n",
       "</div>"
      ],
      "text/plain": [
       "   Gender   Age  Height  Weight genetic high_calorific  vegetable  \\\n",
       "0  Female  21.0    1.62    64.0     yes             no        2.0   \n",
       "1  Female  21.0    1.52    56.0     yes             no        3.0   \n",
       "2    Male  23.0    1.80    77.0     yes             no        2.0   \n",
       "3    Male  27.0    1.80    87.0      no             no        3.0   \n",
       "4    Male  22.0    1.78    89.8      no             no        2.0   \n",
       "\n",
       "   frequence_meal between_meal smoke  water calories_monitoring  \\\n",
       "0             3.0    Sometimes    no    2.0                  no   \n",
       "1             3.0    Sometimes   yes    3.0                 yes   \n",
       "2             3.0    Sometimes    no    2.0                  no   \n",
       "3             3.0    Sometimes    no    2.0                  no   \n",
       "4             1.0    Sometimes    no    2.0                  no   \n",
       "\n",
       "   physical_activity  technology_time     alcohol         transportation  \n",
       "0                0.0              1.0          no  Public_Transportation  \n",
       "1                3.0              0.0   Sometimes  Public_Transportation  \n",
       "2                2.0              1.0  Frequently  Public_Transportation  \n",
       "3                2.0              0.0  Frequently                Walking  \n",
       "4                0.0              0.0   Sometimes  Public_Transportation  "
      ]
     },
     "execution_count": 182,
     "metadata": {},
     "output_type": "execute_result"
    }
   ],
   "source": [
    "df.head()"
   ]
  },
  {
   "cell_type": "markdown",
   "id": "c88a610f",
   "metadata": {},
   "source": [
    "Here we choose to apply the one-hot encoding on the 3 columns that have more than 2 possible values"
   ]
  },
  {
   "cell_type": "code",
   "execution_count": 183,
   "id": "bf648145",
   "metadata": {},
   "outputs": [],
   "source": [
    "from sklearn.preprocessing import OneHotEncoder,OrdinalEncoder\n",
    "from  sklearn.compose import make_column_transformer\n",
    "\n",
    "#OneHotEncoder et Scaling "
   ]
  },
  {
   "cell_type": "code",
   "execution_count": 184,
   "id": "5d67f2dd",
   "metadata": {},
   "outputs": [],
   "source": [
    "transformer = make_column_transformer(\n",
    "        (OneHotEncoder(), [\"between_meal\",\"alcohol\",\"transportation\"]),\n",
    "        (OrdinalEncoder(), [\"Gender\",\"genetic\",\"high_calorific\",\"smoke\",\"calories_monitoring\"]),\n",
    "        remainder=StandardScaler())\n",
    "transformed = transformer.fit_transform(df)\n",
    "\n",
    "#Creation du dataframe avec recuperation des noms des colonnes\n",
    "df=pd.DataFrame(transformed, columns=list(map(lambda x:x.split(\"__\")[1],transformer.get_feature_names_out())))"
   ]
  },
  {
   "cell_type": "code",
   "execution_count": 185,
   "id": "697378cd",
   "metadata": {},
   "outputs": [
    {
     "data": {
      "text/html": [
       "<div>\n",
       "<style scoped>\n",
       "    .dataframe tbody tr th:only-of-type {\n",
       "        vertical-align: middle;\n",
       "    }\n",
       "\n",
       "    .dataframe tbody tr th {\n",
       "        vertical-align: top;\n",
       "    }\n",
       "\n",
       "    .dataframe thead th {\n",
       "        text-align: right;\n",
       "    }\n",
       "</style>\n",
       "<table border=\"1\" class=\"dataframe\">\n",
       "  <thead>\n",
       "    <tr style=\"text-align: right;\">\n",
       "      <th></th>\n",
       "      <th>between_meal_Always</th>\n",
       "      <th>between_meal_Frequently</th>\n",
       "      <th>between_meal_Sometimes</th>\n",
       "      <th>between_meal_no</th>\n",
       "      <th>alcohol_Always</th>\n",
       "      <th>alcohol_Frequently</th>\n",
       "      <th>alcohol_Sometimes</th>\n",
       "      <th>alcohol_no</th>\n",
       "      <th>transportation_Automobile</th>\n",
       "      <th>transportation_Bike</th>\n",
       "      <th>...</th>\n",
       "      <th>smoke</th>\n",
       "      <th>calories_monitoring</th>\n",
       "      <th>Age</th>\n",
       "      <th>Height</th>\n",
       "      <th>Weight</th>\n",
       "      <th>vegetable</th>\n",
       "      <th>frequence_meal</th>\n",
       "      <th>water</th>\n",
       "      <th>physical_activity</th>\n",
       "      <th>technology_time</th>\n",
       "    </tr>\n",
       "  </thead>\n",
       "  <tbody>\n",
       "    <tr>\n",
       "      <th>0</th>\n",
       "      <td>0.0</td>\n",
       "      <td>0.0</td>\n",
       "      <td>1.0</td>\n",
       "      <td>0.0</td>\n",
       "      <td>0.0</td>\n",
       "      <td>0.0</td>\n",
       "      <td>0.0</td>\n",
       "      <td>1.0</td>\n",
       "      <td>0.0</td>\n",
       "      <td>0.0</td>\n",
       "      <td>...</td>\n",
       "      <td>0.0</td>\n",
       "      <td>0.0</td>\n",
       "      <td>-0.522124</td>\n",
       "      <td>-0.875589</td>\n",
       "      <td>-0.862558</td>\n",
       "      <td>-0.785019</td>\n",
       "      <td>0.404153</td>\n",
       "      <td>-0.013073</td>\n",
       "      <td>-1.188039</td>\n",
       "      <td>0.561997</td>\n",
       "    </tr>\n",
       "    <tr>\n",
       "      <th>1</th>\n",
       "      <td>0.0</td>\n",
       "      <td>0.0</td>\n",
       "      <td>1.0</td>\n",
       "      <td>0.0</td>\n",
       "      <td>0.0</td>\n",
       "      <td>0.0</td>\n",
       "      <td>1.0</td>\n",
       "      <td>0.0</td>\n",
       "      <td>0.0</td>\n",
       "      <td>0.0</td>\n",
       "      <td>...</td>\n",
       "      <td>1.0</td>\n",
       "      <td>1.0</td>\n",
       "      <td>-0.522124</td>\n",
       "      <td>-1.947599</td>\n",
       "      <td>-1.168077</td>\n",
       "      <td>1.088342</td>\n",
       "      <td>0.404153</td>\n",
       "      <td>1.618759</td>\n",
       "      <td>2.339750</td>\n",
       "      <td>-1.080625</td>\n",
       "    </tr>\n",
       "    <tr>\n",
       "      <th>2</th>\n",
       "      <td>0.0</td>\n",
       "      <td>0.0</td>\n",
       "      <td>1.0</td>\n",
       "      <td>0.0</td>\n",
       "      <td>0.0</td>\n",
       "      <td>1.0</td>\n",
       "      <td>0.0</td>\n",
       "      <td>0.0</td>\n",
       "      <td>0.0</td>\n",
       "      <td>0.0</td>\n",
       "      <td>...</td>\n",
       "      <td>0.0</td>\n",
       "      <td>0.0</td>\n",
       "      <td>-0.206889</td>\n",
       "      <td>1.054029</td>\n",
       "      <td>-0.366090</td>\n",
       "      <td>-0.785019</td>\n",
       "      <td>0.404153</td>\n",
       "      <td>-0.013073</td>\n",
       "      <td>1.163820</td>\n",
       "      <td>0.561997</td>\n",
       "    </tr>\n",
       "    <tr>\n",
       "      <th>3</th>\n",
       "      <td>0.0</td>\n",
       "      <td>0.0</td>\n",
       "      <td>1.0</td>\n",
       "      <td>0.0</td>\n",
       "      <td>0.0</td>\n",
       "      <td>1.0</td>\n",
       "      <td>0.0</td>\n",
       "      <td>0.0</td>\n",
       "      <td>0.0</td>\n",
       "      <td>0.0</td>\n",
       "      <td>...</td>\n",
       "      <td>0.0</td>\n",
       "      <td>0.0</td>\n",
       "      <td>0.423582</td>\n",
       "      <td>1.054029</td>\n",
       "      <td>0.015808</td>\n",
       "      <td>1.088342</td>\n",
       "      <td>0.404153</td>\n",
       "      <td>-0.013073</td>\n",
       "      <td>1.163820</td>\n",
       "      <td>-1.080625</td>\n",
       "    </tr>\n",
       "    <tr>\n",
       "      <th>4</th>\n",
       "      <td>0.0</td>\n",
       "      <td>0.0</td>\n",
       "      <td>1.0</td>\n",
       "      <td>0.0</td>\n",
       "      <td>0.0</td>\n",
       "      <td>0.0</td>\n",
       "      <td>1.0</td>\n",
       "      <td>0.0</td>\n",
       "      <td>0.0</td>\n",
       "      <td>0.0</td>\n",
       "      <td>...</td>\n",
       "      <td>0.0</td>\n",
       "      <td>0.0</td>\n",
       "      <td>-0.364507</td>\n",
       "      <td>0.839627</td>\n",
       "      <td>0.122740</td>\n",
       "      <td>-0.785019</td>\n",
       "      <td>-2.167023</td>\n",
       "      <td>-0.013073</td>\n",
       "      <td>-1.188039</td>\n",
       "      <td>-1.080625</td>\n",
       "    </tr>\n",
       "    <tr>\n",
       "      <th>...</th>\n",
       "      <td>...</td>\n",
       "      <td>...</td>\n",
       "      <td>...</td>\n",
       "      <td>...</td>\n",
       "      <td>...</td>\n",
       "      <td>...</td>\n",
       "      <td>...</td>\n",
       "      <td>...</td>\n",
       "      <td>...</td>\n",
       "      <td>...</td>\n",
       "      <td>...</td>\n",
       "      <td>...</td>\n",
       "      <td>...</td>\n",
       "      <td>...</td>\n",
       "      <td>...</td>\n",
       "      <td>...</td>\n",
       "      <td>...</td>\n",
       "      <td>...</td>\n",
       "      <td>...</td>\n",
       "      <td>...</td>\n",
       "      <td>...</td>\n",
       "    </tr>\n",
       "    <tr>\n",
       "      <th>2106</th>\n",
       "      <td>0.0</td>\n",
       "      <td>0.0</td>\n",
       "      <td>1.0</td>\n",
       "      <td>0.0</td>\n",
       "      <td>0.0</td>\n",
       "      <td>0.0</td>\n",
       "      <td>1.0</td>\n",
       "      <td>0.0</td>\n",
       "      <td>0.0</td>\n",
       "      <td>0.0</td>\n",
       "      <td>...</td>\n",
       "      <td>0.0</td>\n",
       "      <td>0.0</td>\n",
       "      <td>-0.525774</td>\n",
       "      <td>0.097045</td>\n",
       "      <td>1.711763</td>\n",
       "      <td>1.088342</td>\n",
       "      <td>0.404153</td>\n",
       "      <td>-0.456705</td>\n",
       "      <td>0.783135</td>\n",
       "      <td>0.407996</td>\n",
       "    </tr>\n",
       "    <tr>\n",
       "      <th>2107</th>\n",
       "      <td>0.0</td>\n",
       "      <td>0.0</td>\n",
       "      <td>1.0</td>\n",
       "      <td>0.0</td>\n",
       "      <td>0.0</td>\n",
       "      <td>0.0</td>\n",
       "      <td>1.0</td>\n",
       "      <td>0.0</td>\n",
       "      <td>0.0</td>\n",
       "      <td>0.0</td>\n",
       "      <td>...</td>\n",
       "      <td>0.0</td>\n",
       "      <td>0.0</td>\n",
       "      <td>-0.367195</td>\n",
       "      <td>0.502844</td>\n",
       "      <td>1.800914</td>\n",
       "      <td>1.088342</td>\n",
       "      <td>0.404153</td>\n",
       "      <td>-0.004702</td>\n",
       "      <td>0.389341</td>\n",
       "      <td>-0.096251</td>\n",
       "    </tr>\n",
       "    <tr>\n",
       "      <th>2108</th>\n",
       "      <td>0.0</td>\n",
       "      <td>0.0</td>\n",
       "      <td>1.0</td>\n",
       "      <td>0.0</td>\n",
       "      <td>0.0</td>\n",
       "      <td>0.0</td>\n",
       "      <td>1.0</td>\n",
       "      <td>0.0</td>\n",
       "      <td>0.0</td>\n",
       "      <td>0.0</td>\n",
       "      <td>...</td>\n",
       "      <td>0.0</td>\n",
       "      <td>0.0</td>\n",
       "      <td>-0.281909</td>\n",
       "      <td>0.541672</td>\n",
       "      <td>1.798868</td>\n",
       "      <td>1.088342</td>\n",
       "      <td>0.404153</td>\n",
       "      <td>0.075361</td>\n",
       "      <td>0.474971</td>\n",
       "      <td>-0.019018</td>\n",
       "    </tr>\n",
       "    <tr>\n",
       "      <th>2109</th>\n",
       "      <td>0.0</td>\n",
       "      <td>0.0</td>\n",
       "      <td>1.0</td>\n",
       "      <td>0.0</td>\n",
       "      <td>0.0</td>\n",
       "      <td>0.0</td>\n",
       "      <td>1.0</td>\n",
       "      <td>0.0</td>\n",
       "      <td>0.0</td>\n",
       "      <td>0.0</td>\n",
       "      <td>...</td>\n",
       "      <td>0.0</td>\n",
       "      <td>0.0</td>\n",
       "      <td>0.007776</td>\n",
       "      <td>0.404927</td>\n",
       "      <td>1.785780</td>\n",
       "      <td>1.088342</td>\n",
       "      <td>0.404153</td>\n",
       "      <td>1.377801</td>\n",
       "      <td>0.151471</td>\n",
       "      <td>-0.117991</td>\n",
       "    </tr>\n",
       "    <tr>\n",
       "      <th>2110</th>\n",
       "      <td>0.0</td>\n",
       "      <td>0.0</td>\n",
       "      <td>1.0</td>\n",
       "      <td>0.0</td>\n",
       "      <td>0.0</td>\n",
       "      <td>0.0</td>\n",
       "      <td>1.0</td>\n",
       "      <td>0.0</td>\n",
       "      <td>0.0</td>\n",
       "      <td>0.0</td>\n",
       "      <td>...</td>\n",
       "      <td>0.0</td>\n",
       "      <td>0.0</td>\n",
       "      <td>-0.102119</td>\n",
       "      <td>0.398344</td>\n",
       "      <td>1.790592</td>\n",
       "      <td>1.088342</td>\n",
       "      <td>0.404153</td>\n",
       "      <td>1.396035</td>\n",
       "      <td>0.018996</td>\n",
       "      <td>0.092432</td>\n",
       "    </tr>\n",
       "  </tbody>\n",
       "</table>\n",
       "<p>2111 rows × 26 columns</p>\n",
       "</div>"
      ],
      "text/plain": [
       "      between_meal_Always  between_meal_Frequently  between_meal_Sometimes  \\\n",
       "0                     0.0                      0.0                     1.0   \n",
       "1                     0.0                      0.0                     1.0   \n",
       "2                     0.0                      0.0                     1.0   \n",
       "3                     0.0                      0.0                     1.0   \n",
       "4                     0.0                      0.0                     1.0   \n",
       "...                   ...                      ...                     ...   \n",
       "2106                  0.0                      0.0                     1.0   \n",
       "2107                  0.0                      0.0                     1.0   \n",
       "2108                  0.0                      0.0                     1.0   \n",
       "2109                  0.0                      0.0                     1.0   \n",
       "2110                  0.0                      0.0                     1.0   \n",
       "\n",
       "      between_meal_no  alcohol_Always  alcohol_Frequently  alcohol_Sometimes  \\\n",
       "0                 0.0             0.0                 0.0                0.0   \n",
       "1                 0.0             0.0                 0.0                1.0   \n",
       "2                 0.0             0.0                 1.0                0.0   \n",
       "3                 0.0             0.0                 1.0                0.0   \n",
       "4                 0.0             0.0                 0.0                1.0   \n",
       "...               ...             ...                 ...                ...   \n",
       "2106              0.0             0.0                 0.0                1.0   \n",
       "2107              0.0             0.0                 0.0                1.0   \n",
       "2108              0.0             0.0                 0.0                1.0   \n",
       "2109              0.0             0.0                 0.0                1.0   \n",
       "2110              0.0             0.0                 0.0                1.0   \n",
       "\n",
       "      alcohol_no  transportation_Automobile  transportation_Bike  ...  smoke  \\\n",
       "0            1.0                        0.0                  0.0  ...    0.0   \n",
       "1            0.0                        0.0                  0.0  ...    1.0   \n",
       "2            0.0                        0.0                  0.0  ...    0.0   \n",
       "3            0.0                        0.0                  0.0  ...    0.0   \n",
       "4            0.0                        0.0                  0.0  ...    0.0   \n",
       "...          ...                        ...                  ...  ...    ...   \n",
       "2106         0.0                        0.0                  0.0  ...    0.0   \n",
       "2107         0.0                        0.0                  0.0  ...    0.0   \n",
       "2108         0.0                        0.0                  0.0  ...    0.0   \n",
       "2109         0.0                        0.0                  0.0  ...    0.0   \n",
       "2110         0.0                        0.0                  0.0  ...    0.0   \n",
       "\n",
       "      calories_monitoring       Age    Height    Weight  vegetable  \\\n",
       "0                     0.0 -0.522124 -0.875589 -0.862558  -0.785019   \n",
       "1                     1.0 -0.522124 -1.947599 -1.168077   1.088342   \n",
       "2                     0.0 -0.206889  1.054029 -0.366090  -0.785019   \n",
       "3                     0.0  0.423582  1.054029  0.015808   1.088342   \n",
       "4                     0.0 -0.364507  0.839627  0.122740  -0.785019   \n",
       "...                   ...       ...       ...       ...        ...   \n",
       "2106                  0.0 -0.525774  0.097045  1.711763   1.088342   \n",
       "2107                  0.0 -0.367195  0.502844  1.800914   1.088342   \n",
       "2108                  0.0 -0.281909  0.541672  1.798868   1.088342   \n",
       "2109                  0.0  0.007776  0.404927  1.785780   1.088342   \n",
       "2110                  0.0 -0.102119  0.398344  1.790592   1.088342   \n",
       "\n",
       "      frequence_meal     water  physical_activity  technology_time  \n",
       "0           0.404153 -0.013073          -1.188039         0.561997  \n",
       "1           0.404153  1.618759           2.339750        -1.080625  \n",
       "2           0.404153 -0.013073           1.163820         0.561997  \n",
       "3           0.404153 -0.013073           1.163820        -1.080625  \n",
       "4          -2.167023 -0.013073          -1.188039        -1.080625  \n",
       "...              ...       ...                ...              ...  \n",
       "2106        0.404153 -0.456705           0.783135         0.407996  \n",
       "2107        0.404153 -0.004702           0.389341        -0.096251  \n",
       "2108        0.404153  0.075361           0.474971        -0.019018  \n",
       "2109        0.404153  1.377801           0.151471        -0.117991  \n",
       "2110        0.404153  1.396035           0.018996         0.092432  \n",
       "\n",
       "[2111 rows x 26 columns]"
      ]
     },
     "execution_count": 185,
     "metadata": {},
     "output_type": "execute_result"
    }
   ],
   "source": [
    "df"
   ]
  },
  {
   "cell_type": "code",
   "execution_count": 186,
   "id": "fbfe658a",
   "metadata": {},
   "outputs": [
    {
     "data": {
      "text/html": [
       "<div>\n",
       "<style scoped>\n",
       "    .dataframe tbody tr th:only-of-type {\n",
       "        vertical-align: middle;\n",
       "    }\n",
       "\n",
       "    .dataframe tbody tr th {\n",
       "        vertical-align: top;\n",
       "    }\n",
       "\n",
       "    .dataframe thead th {\n",
       "        text-align: right;\n",
       "    }\n",
       "</style>\n",
       "<table border=\"1\" class=\"dataframe\">\n",
       "  <thead>\n",
       "    <tr style=\"text-align: right;\">\n",
       "      <th></th>\n",
       "      <th>between_meal_Always</th>\n",
       "      <th>between_meal_Frequently</th>\n",
       "      <th>between_meal_Sometimes</th>\n",
       "      <th>between_meal_no</th>\n",
       "      <th>alcohol_Always</th>\n",
       "      <th>alcohol_Frequently</th>\n",
       "      <th>alcohol_Sometimes</th>\n",
       "      <th>alcohol_no</th>\n",
       "      <th>transportation_Automobile</th>\n",
       "      <th>transportation_Bike</th>\n",
       "      <th>...</th>\n",
       "      <th>smoke</th>\n",
       "      <th>calories_monitoring</th>\n",
       "      <th>Age</th>\n",
       "      <th>Height</th>\n",
       "      <th>Weight</th>\n",
       "      <th>vegetable</th>\n",
       "      <th>frequence_meal</th>\n",
       "      <th>water</th>\n",
       "      <th>physical_activity</th>\n",
       "      <th>technology_time</th>\n",
       "    </tr>\n",
       "  </thead>\n",
       "  <tbody>\n",
       "    <tr>\n",
       "      <th>0</th>\n",
       "      <td>0.0</td>\n",
       "      <td>0.0</td>\n",
       "      <td>1.0</td>\n",
       "      <td>0.0</td>\n",
       "      <td>0.0</td>\n",
       "      <td>0.0</td>\n",
       "      <td>0.0</td>\n",
       "      <td>1.0</td>\n",
       "      <td>0.0</td>\n",
       "      <td>0.0</td>\n",
       "      <td>...</td>\n",
       "      <td>0.0</td>\n",
       "      <td>0.0</td>\n",
       "      <td>-0.522124</td>\n",
       "      <td>-0.875589</td>\n",
       "      <td>-0.862558</td>\n",
       "      <td>-0.785019</td>\n",
       "      <td>0.404153</td>\n",
       "      <td>-0.013073</td>\n",
       "      <td>-1.188039</td>\n",
       "      <td>0.561997</td>\n",
       "    </tr>\n",
       "    <tr>\n",
       "      <th>1</th>\n",
       "      <td>0.0</td>\n",
       "      <td>0.0</td>\n",
       "      <td>1.0</td>\n",
       "      <td>0.0</td>\n",
       "      <td>0.0</td>\n",
       "      <td>0.0</td>\n",
       "      <td>1.0</td>\n",
       "      <td>0.0</td>\n",
       "      <td>0.0</td>\n",
       "      <td>0.0</td>\n",
       "      <td>...</td>\n",
       "      <td>1.0</td>\n",
       "      <td>1.0</td>\n",
       "      <td>-0.522124</td>\n",
       "      <td>-1.947599</td>\n",
       "      <td>-1.168077</td>\n",
       "      <td>1.088342</td>\n",
       "      <td>0.404153</td>\n",
       "      <td>1.618759</td>\n",
       "      <td>2.339750</td>\n",
       "      <td>-1.080625</td>\n",
       "    </tr>\n",
       "    <tr>\n",
       "      <th>2</th>\n",
       "      <td>0.0</td>\n",
       "      <td>0.0</td>\n",
       "      <td>1.0</td>\n",
       "      <td>0.0</td>\n",
       "      <td>0.0</td>\n",
       "      <td>1.0</td>\n",
       "      <td>0.0</td>\n",
       "      <td>0.0</td>\n",
       "      <td>0.0</td>\n",
       "      <td>0.0</td>\n",
       "      <td>...</td>\n",
       "      <td>0.0</td>\n",
       "      <td>0.0</td>\n",
       "      <td>-0.206889</td>\n",
       "      <td>1.054029</td>\n",
       "      <td>-0.366090</td>\n",
       "      <td>-0.785019</td>\n",
       "      <td>0.404153</td>\n",
       "      <td>-0.013073</td>\n",
       "      <td>1.163820</td>\n",
       "      <td>0.561997</td>\n",
       "    </tr>\n",
       "    <tr>\n",
       "      <th>3</th>\n",
       "      <td>0.0</td>\n",
       "      <td>0.0</td>\n",
       "      <td>1.0</td>\n",
       "      <td>0.0</td>\n",
       "      <td>0.0</td>\n",
       "      <td>1.0</td>\n",
       "      <td>0.0</td>\n",
       "      <td>0.0</td>\n",
       "      <td>0.0</td>\n",
       "      <td>0.0</td>\n",
       "      <td>...</td>\n",
       "      <td>0.0</td>\n",
       "      <td>0.0</td>\n",
       "      <td>0.423582</td>\n",
       "      <td>1.054029</td>\n",
       "      <td>0.015808</td>\n",
       "      <td>1.088342</td>\n",
       "      <td>0.404153</td>\n",
       "      <td>-0.013073</td>\n",
       "      <td>1.163820</td>\n",
       "      <td>-1.080625</td>\n",
       "    </tr>\n",
       "    <tr>\n",
       "      <th>4</th>\n",
       "      <td>0.0</td>\n",
       "      <td>0.0</td>\n",
       "      <td>1.0</td>\n",
       "      <td>0.0</td>\n",
       "      <td>0.0</td>\n",
       "      <td>0.0</td>\n",
       "      <td>1.0</td>\n",
       "      <td>0.0</td>\n",
       "      <td>0.0</td>\n",
       "      <td>0.0</td>\n",
       "      <td>...</td>\n",
       "      <td>0.0</td>\n",
       "      <td>0.0</td>\n",
       "      <td>-0.364507</td>\n",
       "      <td>0.839627</td>\n",
       "      <td>0.122740</td>\n",
       "      <td>-0.785019</td>\n",
       "      <td>-2.167023</td>\n",
       "      <td>-0.013073</td>\n",
       "      <td>-1.188039</td>\n",
       "      <td>-1.080625</td>\n",
       "    </tr>\n",
       "  </tbody>\n",
       "</table>\n",
       "<p>5 rows × 26 columns</p>\n",
       "</div>"
      ],
      "text/plain": [
       "   between_meal_Always  between_meal_Frequently  between_meal_Sometimes  \\\n",
       "0                  0.0                      0.0                     1.0   \n",
       "1                  0.0                      0.0                     1.0   \n",
       "2                  0.0                      0.0                     1.0   \n",
       "3                  0.0                      0.0                     1.0   \n",
       "4                  0.0                      0.0                     1.0   \n",
       "\n",
       "   between_meal_no  alcohol_Always  alcohol_Frequently  alcohol_Sometimes  \\\n",
       "0              0.0             0.0                 0.0                0.0   \n",
       "1              0.0             0.0                 0.0                1.0   \n",
       "2              0.0             0.0                 1.0                0.0   \n",
       "3              0.0             0.0                 1.0                0.0   \n",
       "4              0.0             0.0                 0.0                1.0   \n",
       "\n",
       "   alcohol_no  transportation_Automobile  transportation_Bike  ...  smoke  \\\n",
       "0         1.0                        0.0                  0.0  ...    0.0   \n",
       "1         0.0                        0.0                  0.0  ...    1.0   \n",
       "2         0.0                        0.0                  0.0  ...    0.0   \n",
       "3         0.0                        0.0                  0.0  ...    0.0   \n",
       "4         0.0                        0.0                  0.0  ...    0.0   \n",
       "\n",
       "   calories_monitoring       Age    Height    Weight  vegetable  \\\n",
       "0                  0.0 -0.522124 -0.875589 -0.862558  -0.785019   \n",
       "1                  1.0 -0.522124 -1.947599 -1.168077   1.088342   \n",
       "2                  0.0 -0.206889  1.054029 -0.366090  -0.785019   \n",
       "3                  0.0  0.423582  1.054029  0.015808   1.088342   \n",
       "4                  0.0 -0.364507  0.839627  0.122740  -0.785019   \n",
       "\n",
       "   frequence_meal     water  physical_activity  technology_time  \n",
       "0        0.404153 -0.013073          -1.188039         0.561997  \n",
       "1        0.404153  1.618759           2.339750        -1.080625  \n",
       "2        0.404153 -0.013073           1.163820         0.561997  \n",
       "3        0.404153 -0.013073           1.163820        -1.080625  \n",
       "4       -2.167023 -0.013073          -1.188039        -1.080625  \n",
       "\n",
       "[5 rows x 26 columns]"
      ]
     },
     "execution_count": 186,
     "metadata": {},
     "output_type": "execute_result"
    }
   ],
   "source": [
    "df.head()\n"
   ]
  },
  {
   "cell_type": "code",
   "execution_count": 187,
   "id": "adc5faa6",
   "metadata": {},
   "outputs": [
    {
     "data": {
      "text/plain": [
       "Index(['between_meal_Always', 'between_meal_Frequently',\n",
       "       'between_meal_Sometimes', 'between_meal_no', 'alcohol_Always',\n",
       "       'alcohol_Frequently', 'alcohol_Sometimes', 'alcohol_no',\n",
       "       'transportation_Automobile', 'transportation_Bike',\n",
       "       'transportation_Motorbike', 'transportation_Public_Transportation',\n",
       "       'transportation_Walking', 'Gender', 'genetic', 'high_calorific',\n",
       "       'smoke', 'calories_monitoring', 'Age', 'Height', 'Weight', 'vegetable',\n",
       "       'frequence_meal', 'water', 'physical_activity', 'technology_time'],\n",
       "      dtype='object')"
      ]
     },
     "execution_count": 187,
     "metadata": {},
     "output_type": "execute_result"
    }
   ],
   "source": [
    "df.columns"
   ]
  },
  {
   "cell_type": "code",
   "execution_count": null,
   "id": "c6f0653b",
   "metadata": {},
   "outputs": [],
   "source": []
  },
  {
   "cell_type": "code",
   "execution_count": null,
   "id": "b4dac2da",
   "metadata": {},
   "outputs": [],
   "source": []
  },
  {
   "cell_type": "code",
   "execution_count": null,
   "id": "17989708",
   "metadata": {},
   "outputs": [],
   "source": []
  },
  {
   "cell_type": "code",
   "execution_count": null,
   "id": "c84f5a2a",
   "metadata": {},
   "outputs": [],
   "source": []
  },
  {
   "cell_type": "code",
   "execution_count": null,
   "id": "43f04c14",
   "metadata": {},
   "outputs": [],
   "source": []
  },
  {
   "cell_type": "markdown",
   "id": "f3391b8e",
   "metadata": {},
   "source": [
    "We normalize the data"
   ]
  },
  {
   "cell_type": "code",
   "execution_count": null,
   "id": "47b33d49",
   "metadata": {},
   "outputs": [],
   "source": []
  },
  {
   "cell_type": "markdown",
   "id": "9e786cb6",
   "metadata": {},
   "source": [
    "## 2) Implementation of the models"
   ]
  },
  {
   "cell_type": "markdown",
   "id": "018aea9e",
   "metadata": {},
   "source": [
    "### Train-test split"
   ]
  },
  {
   "cell_type": "code",
   "execution_count": null,
   "id": "9bd93edb",
   "metadata": {},
   "outputs": [],
   "source": []
  },
  {
   "cell_type": "code",
   "execution_count": 188,
   "id": "f0c5c774",
   "metadata": {},
   "outputs": [],
   "source": [
    "from sklearn.model_selection import train_test_split\n",
    "\n",
    "X=df\n",
    "\n",
    "X_train, X_test, y_train, y_test = train_test_split(X, y, test_size=0.3) "
   ]
  },
  {
   "cell_type": "markdown",
   "id": "ef6b1f32",
   "metadata": {},
   "source": [
    "### First model"
   ]
  },
  {
   "cell_type": "markdown",
   "id": "97564f4c",
   "metadata": {},
   "source": [
    "First we choose to apply a random forest model to the data, keeping all the features and columns"
   ]
  },
  {
   "cell_type": "code",
   "execution_count": 204,
   "id": "3bbf16c1",
   "metadata": {},
   "outputs": [],
   "source": [
    "from sklearn.ensemble import RandomForestClassifier\n",
    "\n",
    "clf=RandomForestClassifier(n_estimators=5)\n",
    "\n",
    "clf.fit(X_train,y_train)\n",
    "\n",
    "y_pred=clf.predict(X_test)\n"
   ]
  },
  {
   "cell_type": "code",
   "execution_count": 205,
   "id": "9325df18",
   "metadata": {},
   "outputs": [
    {
     "name": "stdout",
     "output_type": "stream",
     "text": [
      "Accuracy: 0.8675078864353313\n"
     ]
    }
   ],
   "source": [
    "from sklearn import metrics\n",
    "\n",
    "print(\"Accuracy:\",metrics.accuracy_score(y_test, y_pred))"
   ]
  },
  {
   "cell_type": "markdown",
   "id": "7662b35c",
   "metadata": {},
   "source": [
    "### Comparison of the models"
   ]
  },
  {
   "cell_type": "markdown",
   "id": "7f0ff899",
   "metadata": {},
   "source": [
    "We try several models and compare them to see which one gets the best accuracy"
   ]
  },
  {
   "cell_type": "code",
   "execution_count": 84,
   "id": "a64ec68f",
   "metadata": {},
   "outputs": [],
   "source": [
    "def Test_algo_Obesity(models, labels,train_x,test_x,train_y,test_y):\n",
    "    dict_train_score={}\n",
    "    dict_test_score={}\n",
    "    for k in range(len(models)):\n",
    "        model=models[k]\n",
    "        model.fit(train_x,train_y)\n",
    "        dict_train_score[labels[k]]=model.score(train_x,train_y)\n",
    "        dict_test_score[labels[k]]=model.score(test_x,test_y)\n",
    "        print(\"Test {} score ={: 0.3f}\".format(labels[k],dict_test_score[labels[k]]))\n",
    "    print(\"\\nbest Model for Obesity dataset is {} with test score :{: 0.3f}\".format(max(dict_test_score, key=dict_test_score.get),dict_test_score[max(dict_test_score, key=dict_test_score.get)]))\n",
    "    return max(dict_test_score, key=dict_test_score.get)"
   ]
  },
  {
   "cell_type": "code",
   "execution_count": 85,
   "id": "2f6fb6c4",
   "metadata": {},
   "outputs": [],
   "source": [
    "models_liste=[svm.SVC(),tree.DecisionTreeClassifier(),RandomForestClassifier(n_estimators=500),KNeighborsClassifier(),LogisticRegression()]\n",
    "labels_liste=[\"SVM\",\"Desicion tree\",\"RandomForest\",\"KNeighbors\",\"LogisticRegression\"]"
   ]
  },
  {
   "cell_type": "code",
   "execution_count": 127,
   "id": "6580488e",
   "metadata": {},
   "outputs": [
    {
     "name": "stdout",
     "output_type": "stream",
     "text": [
      "Test SVM score = 0.924\n",
      "Test Desicion tree score = 0.943\n",
      "Test RandomForest score = 0.942\n",
      "Test KNeighbors score = 0.822\n",
      "Test LogisticRegression score = 0.890\n",
      "\n",
      "best Model for Obesity dataset is Desicion tree with test score : 0.943\n"
     ]
    },
    {
     "data": {
      "text/plain": [
       "'Desicion tree'"
      ]
     },
     "execution_count": 127,
     "metadata": {},
     "output_type": "execute_result"
    }
   ],
   "source": [
    "Test_algo_Obesity(models_liste, labels_liste,X_train, X_test, y_train, y_test)"
   ]
  },
  {
   "cell_type": "markdown",
   "id": "f6cd2e92",
   "metadata": {},
   "source": [
    "### Features importance"
   ]
  },
  {
   "cell_type": "markdown",
   "id": "390686ee",
   "metadata": {},
   "source": [
    "Now let's see the importance of the different features on the model"
   ]
  },
  {
   "cell_type": "code",
   "execution_count": 128,
   "id": "769e1f62",
   "metadata": {},
   "outputs": [],
   "source": [
    "import numpy as np\n",
    "\n",
    "importances = clf.feature_importances_\n",
    "std = np.std([tree.feature_importances_ for tree in clf.estimators_], axis=0)"
   ]
  },
  {
   "cell_type": "code",
   "execution_count": 129,
   "id": "fde1654d",
   "metadata": {},
   "outputs": [],
   "source": [
    "feature_names = [f\"feature {i}\" for i in range(X_train.shape[1])]"
   ]
  },
  {
   "cell_type": "code",
   "execution_count": 130,
   "id": "3e9b0d0b",
   "metadata": {},
   "outputs": [],
   "source": [
    "import matplotlib.pyplot as plt"
   ]
  },
  {
   "cell_type": "code",
   "execution_count": 131,
   "id": "48770acb",
   "metadata": {},
   "outputs": [
    {
     "data": {
      "image/png": "[encoded data removed]",
      "text/plain": [
       "<Figure size 640x480 with 1 Axes>"
      ]
     },
     "metadata": {},
     "output_type": "display_data"
    }
   ],
   "source": [
    "forest_importances = pd.Series(importances, index=X_train.columns)\n",
    "\n",
    "fig, ax = plt.subplots()\n",
    "forest_importances.plot.bar(yerr=std, ax=ax)\n",
    "ax.set_title(\"Feature importances using MDI\")\n",
    "ax.set_ylabel(\"Mean decrease in impurity\")\n",
    "fig.tight_layout()"
   ]
  },
  {
   "cell_type": "markdown",
   "id": "32c42ede",
   "metadata": {},
   "source": [
    "We see that smoke, calories_monitoring have almost no impact, that's why we will remove them : thus, we can ask fewer questions to the sample."
   ]
  },
  {
   "cell_type": "markdown",
   "id": "73a141f9",
   "metadata": {},
   "source": [
    "Let's remove these columns and analyze the results"
   ]
  },
  {
   "cell_type": "code",
   "execution_count": 133,
   "id": "1702f987",
   "metadata": {},
   "outputs": [],
   "source": [
    "from sklearn.model_selection import train_test_split\n",
    "\n",
    "X=df.drop(['smoke',\"calories_monitoring\"],axis=1)\n",
    "\n",
    "# Split dataset into training set and test set\n",
    "X_train, X_test, y_train, y_test = train_test_split(X, y, test_size=0.3) "
   ]
  },
  {
   "cell_type": "code",
   "execution_count": 134,
   "id": "b1ffc863",
   "metadata": {},
   "outputs": [
    {
     "name": "stdout",
     "output_type": "stream",
     "text": [
      "Test SVM score = 0.918\n",
      "Test Desicion tree score = 0.918\n",
      "Test RandomForest score = 0.953\n",
      "Test KNeighbors score = 0.812\n",
      "Test LogisticRegression score = 0.893\n",
      "\n",
      "best Model for Obesity dataset is RandomForest with test score : 0.953\n"
     ]
    },
    {
     "data": {
      "text/plain": [
       "'RandomForest'"
      ]
     },
     "execution_count": 134,
     "metadata": {},
     "output_type": "execute_result"
    }
   ],
   "source": [
    "Test_algo_Obesity(models_liste, labels_liste,X_train, X_test, y_train, y_test)"
   ]
  },
  {
   "cell_type": "markdown",
   "id": "5bb0fe25",
   "metadata": {},
   "source": [
    "We see that by removing these 2 columns, we even get a better accuracy"
   ]
  },
  {
   "cell_type": "markdown",
   "id": "4bc47bec",
   "metadata": {},
   "source": [
    "### Grid search"
   ]
  },
  {
   "cell_type": "code",
   "execution_count": null,
   "id": "11294449",
   "metadata": {},
   "outputs": [],
   "source": []
  },
  {
   "cell_type": "markdown",
   "id": "413cf271",
   "metadata": {},
   "source": [
    "We try the random forest model (the best so far) with different hyperparameters and see which ones are the best"
   ]
  },
  {
   "cell_type": "code",
   "execution_count": 193,
   "id": "7ea986e6",
   "metadata": {},
   "outputs": [
    {
     "name": "stdout",
     "output_type": "stream",
     "text": [
      "grid params best model {'criterion': 'log_loss', 'max_depth': None, 'n_estimators': 500}\n",
      "grid score best model 0.9410948236371965\n",
      "test score best model 0.944794952681388\n"
     ]
    }
   ],
   "source": [
    "param_grid={\"max_depth\":[k for k in range(5)]+[None],\"n_estimators\":[k for k in range(500,501)],\"criterion\":[\"gini\",\"entropy\",\"log_loss\"]}\n",
    "grid=GridSearchCV(RandomForestClassifier(),param_grid)\n",
    "grid.fit(X_train,y_train)\n",
    "print('grid params best model',grid.best_params_)\n",
    "print('grid score best model',grid.best_score_)\n",
    "best_model=grid.best_estimator_\n",
    "print('test score best model', best_model.score(X_test,y_test))"
   ]
  },
  {
   "cell_type": "code",
   "execution_count": null,
   "id": "829a65ab",
   "metadata": {},
   "outputs": [],
   "source": []
  },
  {
   "cell_type": "code",
   "execution_count": null,
   "id": "77dbf85b",
   "metadata": {},
   "outputs": [],
   "source": []
  },
  {
   "cell_type": "code",
   "execution_count": null,
   "id": "b3d2acd9",
   "metadata": {},
   "outputs": [],
   "source": []
  },
  {
   "cell_type": "code",
   "execution_count": null,
   "id": "0e7293a2",
   "metadata": {},
   "outputs": [],
   "source": []
  },
  {
   "cell_type": "code",
   "execution_count": null,
   "id": "fdbadd55",
   "metadata": {},
   "outputs": [],
   "source": []
  },
  {
   "cell_type": "code",
   "execution_count": null,
   "id": "c1b11c54",
   "metadata": {},
   "outputs": [],
   "source": []
  },
  {
   "cell_type": "code",
   "execution_count": null,
   "id": "d37742bc",
   "metadata": {},
   "outputs": [],
   "source": []
  }
 ],
 "metadata": {
  "kernelspec": {
   "display_name": "Python 3 (ipykernel)",
   "language": "python",
   "name": "python3"
  },
  "language_info": {
   "codemirror_mode": {
    "name": "ipython",
    "version": 3
   },
   "file_extension": ".py",
   "mimetype": "text/x-python",
   "name": "python",
   "nbconvert_exporter": "python",
   "pygments_lexer": "ipython3",
   "version": "3.11.0"
  }
 },
 "nbformat": 4,
 "nbformat_minor": 5
}
